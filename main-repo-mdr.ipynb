{
 "cells": [
  {
   "cell_type": "markdown",
   "metadata": {},
   "source": [
    "## Challenge 1: Fork Languages"
   ]
  },
  {
   "cell_type": "markdown",
   "metadata": {},
   "source": [
    "#### 1. Obtain the full list of forks created from the main lab repo via Github API.\n",
    "\n"
   ]
  },
  {
   "cell_type": "markdown",
   "metadata": {},
   "source": [
    "##### Import"
   ]
  },
  {
   "cell_type": "code",
   "execution_count": 145,
   "metadata": {},
   "outputs": [],
   "source": [
    "# IMPORT LIBRARIES\n",
    "import json\n",
    "import requests\n",
    "import pandas as pd\n",
    "from pandas.io.json import json_normalize\n",
    "import urllib.request"
   ]
  },
  {
   "cell_type": "markdown",
   "metadata": {},
   "source": [
    "##### Github API"
   ]
  },
  {
   "cell_type": "code",
   "execution_count": 146,
   "metadata": {},
   "outputs": [],
   "source": [
    "# URL API\n",
    "url=\"https://api.github.com/repos/ironhack-datalabs/madrid-oct-2018/forks\""
   ]
  },
  {
   "cell_type": "code",
   "execution_count": 147,
   "metadata": {},
   "outputs": [],
   "source": [
    "# GET DATA\n",
    "response= requests.get(url)"
   ]
  },
  {
   "cell_type": "code",
   "execution_count": 148,
   "metadata": {},
   "outputs": [
    {
     "data": {
      "text/plain": [
       "<Response [200]>"
      ]
     },
     "execution_count": 148,
     "metadata": {},
     "output_type": "execute_result"
    }
   ],
   "source": [
    "#comprobamos \n",
    "response"
   ]
  },
  {
   "cell_type": "code",
   "execution_count": 149,
   "metadata": {},
   "outputs": [],
   "source": [
    "# HEADERS\n",
    "headers= {\"User-agent\": \"Mozilla/5.0 (Macintosh; Intel Mac OS X 10_14_5) AppleWebKit/605.1.15 (KHTML, like Gecko)\", \"Accept-Encoding\":\"Application/json\"}\n"
   ]
  },
  {
   "cell_type": "code",
   "execution_count": 150,
   "metadata": {},
   "outputs": [],
   "source": [
    "# REQUESTS\n",
    "request= requests.get(url, headers=headers)"
   ]
  },
  {
   "cell_type": "code",
   "execution_count": 153,
   "metadata": {},
   "outputs": [
    {
     "data": {
      "text/plain": [
       "<Response [200]>"
      ]
     },
     "execution_count": 153,
     "metadata": {},
     "output_type": "execute_result"
    }
   ],
   "source": [
    "#comprobamos\n",
    "request"
   ]
  },
  {
   "cell_type": "code",
   "execution_count": 132,
   "metadata": {},
   "outputs": [
    {
     "data": {
      "text/plain": [
       "'[{\"id\":281180827,\"node_id\":\"MDEwOlJlcG9zaXRvcnkyODExODA4Mjc=\",\"name\":\"mad-oct-2018\",\"full_name\":\"Spurda/mad-oct-2018\",\"private\":false,\"owner\":{\"login\":\"Spurda\",\"id\":64211830,\"node_id\":\"MDQ6VXNlcjY0MjExODMw\",\"avatar_url\":\"https://avatars3.githubusercontent.com/u/64211830?v=4\",\"gravatar_id\":\"\",\"url\":\"https://api.github.com/users/Spurda\",\"html_url\":\"https://github.com/Spurda\",\"followers_url\":\"https://api.github.com/users/Spurda/followers\",\"following_url\":\"https://api.github.com/users/Spurda/following{/other_user}\",\"gists_url\":\"https://api.github.com/users/Spurda/gists{/gist_id}\",\"starred_url\":\"https://api.github.com/users/Spurda/starred{/owner}{/repo}\",\"subscriptions_url\":\"https://api.github.com/users/Spurda/subscriptions\",\"organizations_url\":\"https://api.github.com/users/Spurda/orgs\",\"repos_url\":\"https://api.github.com/users/Spurda/repos\",\"events_url\":\"https://api.github.com/users/Spurda/events{/privacy}\",\"received_events_url\":\"https://api.github.com/users/Spurda/received_events\",\"type\":\"User\",\"site_admin\":false},\"html_url\":\"https://github.com/Spurda/mad-oct-2018\",\"description\":\"Student labs for Ironhack data analytics bootcamp\",\"fork\":true,\"url\":\"https://api.github.com/repos/Spurda/mad-oct-2018\",\"forks_url\":\"https://api.github.com/repos/Spurda/mad-oct-2018/forks\",\"keys_url\":\"https://api.github.com/repos/Spurda/mad-oct-2018/keys{/key_id}\",\"collaborators_url\":\"https://api.github.com/repos/Spurda/mad-oct-2018/collaborators{/collaborator}\",\"teams_url\":\"https://api.github.com/repos/Spurda/mad-oct-2018/teams\",\"hooks_url\":\"https://api.github.com/repos/Spurda/mad-oct-2018/hooks\",\"issue_events_url\":\"https://api.github.com/repos/Spurda/mad-oct-2018/issues/events{/number}\",\"events_url\":\"https://api.github.com/repos/Spurda/mad-oct-2018/events\",\"assignees_url\":\"https://api.github.com/repos/Spurda/mad-oct-2018/assignees{/user}\",\"branches_url\":\"https://api.github.com/repos/Spurda/mad-oct-2018/branches{/branch}\",\"tags_url\":\"https://api.github.com/repos/Spurda/mad-oct-2018/tags\",\"blobs_url\":\"https://api.github.com/repos/Spurda/mad-oct-2018/git/blobs{/sha}\",\"git_tags_url\":\"https://api.github.com/repos/Spurda/mad-oct-2018/git/tags{/sha}\",\"git_refs_url\":\"https://api.github.com/repos/Spurda/mad-oct-2018/git/refs{/sha}\",\"trees_url\":\"https://api.github.com/repos/Spurda/mad-oct-2018/git/trees{/sha}\",\"statuses_url\":\"https://api.github.com/repos/Spurda/mad-oct-2018/statuses/{sha}\",\"languages_url\":\"https://api.github.com/repos/Spurda/mad-oct-2018/languages\",\"stargazers_url\":\"https://api.github.com/repos/Spurda/mad-oct-2018/stargazers\",\"contributors_url\":\"https://api.github.com/repos/Spurda/mad-oct-2018/contributors\",\"subscribers_url\":\"https://api.github.com/repos/Spurda/mad-oct-2018/subscribers\",\"subscription_url\":\"https://api.github.com/repos/Spurda/mad-oct-2018/subscription\",\"commits_url\":\"https://api.github.com/repos/Spurda/mad-oct-2018/commits{/sha}\",\"git_commits_url\":\"https://api.github.com/repos/Spurda/mad-oct-2018/git/commits{/sha}\",\"comments_url\":\"https://api.github.com/repos/Spurda/mad-oct-2018/comments{/number}\",\"issue_comment_url\":\"https://api.github.com/repos/Spurda/mad-oct-2018/issues/comments{/number}\",\"contents_url\":\"https://api.github.com/repos/Spurda/mad-oct-2018/contents/{+path}\",\"compare_url\":\"https://api.github.com/repos/Spurda/mad-oct-2018/compare/{base}...{head}\",\"merges_url\":\"https://api.github.com/repos/Spurda/mad-oct-2018/merges\",\"archive_url\":\"https://api.github.com/repos/Spurda/mad-oct-2018/{archive_format}{/ref}\",\"downloads_url\":\"https://api.github.com/repos/Spurda/mad-oct-2018/downloads\",\"issues_url\":\"https://api.github.com/repos/Spurda/mad-oct-2018/issues{/number}\",\"pulls_url\":\"https://api.github.com/repos/Spurda/mad-oct-2018/pulls{/number}\",\"milestones_url\":\"https://api.github.com/repos/Spurda/mad-oct-2018/milestones{/number}\",\"notifications_url\":\"https://api.github.com/repos/Spurda/mad-oct-2018/notifications{?since,all,participating}\",\"labels_url\":\"https://api.github.com/repos/Spurda/mad-oct-2018/labels{/name}\",\"releases_url\":\"https://api.github.com/repos/Spurda/mad-oct-2018/releases{/id}\",\"deployments_url\":\"https://api.github.com/repos/Spurda/mad-oct-2018/deployments\",\"created_at\":\"2020-07-20T17:18:39Z\",\"updated_at\":\"2020-07-20T17:18:41Z\",\"pushed_at\":\"2019-08-19T11:16:55Z\",\"git_url\":\"git://github.com/Spurda/mad-oct-2018.git\",\"ssh_url\":\"git@github.com:Spurda/mad-oct-2018.git\",\"clone_url\":\"https://github.com/Spurda/mad-oct-2018.git\",\"svn_url\":\"https://github.com/Spurda/mad-oct-2018\",\"homepage\":\"\",\"size\":116995,\"stargazers_count\":0,\"watchers_count\":0,\"language\":null,\"has_issues\":false,\"has_projects\":true,\"has_downloads\":true,\"has_wiki\":true,\"has_pages\":false,\"forks_count\":0,\"mirror_url\":null,\"archived\":false,\"disabled\":false,\"open_issues_count\":0,\"license\":{\"key\":\"unlicense\",\"name\":\"The Unlicense\",\"spdx_id\":\"Unlicense\",\"url\":\"https://api.github.com/licenses/unlicense\",\"node_id\":\"MDc6TGljZW5zZTE1\"},\"forks\":0,\"open_issues\":0,\"watchers\":0,\"default_branch\":\"master\"},{\"id\":220066216,\"node_id\":\"MDEwOlJlcG9zaXRvcnkyMjAwNjYyMTY=\",\"name\":\"mad-oct-2018\",\"full_name\":\"ToniPons97/mad-oct-2018\",\"private\":false,\"owner\":{\"login\":\"ToniPons97\",\"id\":45130294,\"node_id\":\"MDQ6VXNlcjQ1MTMwMjk0\",\"avatar_url\":\"https://avatars3.githubusercontent.com/u/45130294?v=4\",\"gravatar_id\":\"\",\"url\":\"https://api.github.com/users/ToniPons97\",\"html_url\":\"https://github.com/ToniPons97\",\"followers_url\":\"https://api.github.com/users/ToniPons97/followers\",\"following_url\":\"https://api.github.com/users/ToniPons97/following{/other_user}\",\"gists_url\":\"https://api.github.com/users/ToniPons97/gists{/gist_id}\",\"starred_url\":\"https://api.github.com/users/ToniPons97/starred{/owner}{/repo}\",\"subscriptions_url\":\"https://api.github.com/users/ToniPons97/subscriptions\",\"organizations_url\":\"https://api.github.com/users/ToniPons97/orgs\",\"repos_url\":\"https://api.github.com/users/ToniPons97/repos\",\"events_url\":\"https://api.github.com/users/ToniPons97/events{/privacy}\",\"received_events_url\":\"https://api.github.com/users/ToniPons97/received_events\",\"type\":\"User\",\"site_admin\":false},\"html_url\":\"https://github.com/ToniPons97/mad-oct-2018\",\"description\":\"Student labs for Ironhack data analytics bootcamp\",\"fork\":true,\"url\":\"https://api.github.com/repos/ToniPons97/mad-oct-2018\",\"forks_url\":\"https://api.github.com/repos/ToniPons97/mad-oct-2018/forks\",\"keys_url\":\"https://api.github.com/repos/ToniPons97/mad-oct-2018/keys{/key_id}\",\"collaborators_url\":\"https://api.github.com/repos/ToniPons97/mad-oct-2018/collaborators{/collaborator}\",\"teams_url\":\"https://api.github.com/repos/ToniPons97/mad-oct-2018/teams\",\"hooks_url\":\"https://api.github.com/repos/ToniPons97/mad-oct-2018/hooks\",\"issue_events_url\":\"https://api.github.com/repos/ToniPons97/mad-oct-2018/issues/events{/number}\",\"events_url\":\"https://api.github.com/repos/ToniPons97/mad-oct-2018/events\",\"assignees_url\":\"https://api.github.com/repos/ToniPons97/mad-oct-2018/assignees{/user}\",\"branches_url\":\"https://api.github.com/repos/ToniPons97/mad-oct-2018/branches{/branch}\",\"tags_url\":\"https://api.github.com/repos/ToniPons97/mad-oct-2018/tags\",\"blobs_url\":\"https://api.github.com/repos/ToniPons97/mad-oct-2018/git/blobs{/sha}\",\"git_tags_url\":\"https://api.github.com/repos/ToniPons97/mad-oct-2018/git/tags{/sha}\",\"git_refs_url\":\"https://api.github.com/repos/ToniPons97/mad-oct-2018/git/refs{/sha}\",\"trees_url\":\"https://api.github.com/repos/ToniPons97/mad-oct-2018/git/trees{/sha}\",\"statuses_url\":\"https://api.github.com/repos/ToniPons97/mad-oct-2018/statuses/{sha}\",\"languages_url\":\"https://api.github.com/repos/ToniPons97/mad-oct-2018/languages\",\"stargazers_url\":\"https://api.github.com/repos/ToniPons97/mad-oct-2018/stargazers\",\"contributors_url\":\"https://api.github.com/repos/ToniPons97/mad-oct-2018/contributors\",\"subscribers_url\":\"https://api.github.com/repos/ToniPons97/mad-oct-2018/subscribers\",\"subscription_url\":\"https://api.github.com/repos/ToniPons97/mad-oct-2018/subscription\",\"commits_url\":\"https://api.github.com/repos/ToniPons97/mad-oct-2018/commits{/sha}\",\"git_commits_url\":\"https://api.github.com/repos/ToniPons97/mad-oct-2018/git/commits{/sha}\",\"comments_url\":\"https://api.github.com/repos/ToniPons97/mad-oct-2018/comments{/number}\",\"issue_comment_url\":\"https://api.github.com/repos/ToniPons97/mad-oct-2018/issues/comments{/number}\",\"contents_url\":\"https://api.github.com/repos/ToniPons97/mad-oct-2018/contents/{+path}\",\"compare_url\":\"https://api.github.com/repos/ToniPons97/mad-oct-2018/compare/{base}...{head}\",\"merges_url\":\"https://api.github.com/repos/ToniPons97/mad-oct-2018/merges\",\"archive_url\":\"https://api.github.com/repos/ToniPons97/mad-oct-2018/{archive_format}{/ref}\",\"downloads_url\":\"https://api.github.com/repos/ToniPons97/mad-oct-2018/downloads\",\"issues_url\":\"https://api.github.com/repos/ToniPons97/mad-oct-2018/issues{/number}\",\"pulls_url\":\"https://api.github.com/repos/ToniPons97/mad-oct-2018/pulls{/number}\",\"milestones_url\":\"https://api.github.com/repos/ToniPons97/mad-oct-2018/milestones{/number}\",\"notifications_url\":\"https://api.github.com/repos/ToniPons97/mad-oct-2018/notifications{?since,all,participating}\",\"labels_url\":\"https://api.github.com/repos/ToniPons97/mad-oct-2018/labels{/name}\",\"releases_url\":\"https://api.github.com/repos/ToniPons97/mad-oct-2018/releases{/id}\",\"deployments_url\":\"https://api.github.com/repos/ToniPons97/mad-oct-2018/deployments\",\"created_at\":\"2019-11-06T18:44:51Z\",\"updated_at\":\"2019-11-06T18:44:52Z\",\"pushed_at\":\"2019-08-19T11:16:55Z\",\"git_url\":\"git://github.com/ToniPons97/mad-oct-2018.git\",\"ssh_url\":\"git@github.com:ToniPons97/mad-oct-2018.git\",\"clone_url\":\"https://github.com/ToniPons97/mad-oct-2018.git\",\"svn_url\":\"https://github.com/ToniPons97/mad-oct-2018\",\"homepage\":\"\",\"size\":116995,\"stargazers_count\":0,\"watchers_count\":0,\"language\":null,\"has_issues\":false,\"has_projects\":true,\"has_downloads\":true,\"has_wiki\":true,\"has_pages\":false,\"forks_count\":0,\"mirror_url\":null,\"archived\":false,\"disabled\":false,\"open_issues_count\":0,\"license\":{\"key\":\"unlicense\",\"name\":\"The Unlicense\",\"spdx_id\":\"Unlicense\",\"url\":\"https://api.github.com/licenses/unlicense\",\"node_id\":\"MDc6TGljZW5zZTE1\"},\"forks\":0,\"open_issues\":0,\"watchers\":0,\"default_branch\":\"master\"},{\"id\":204100911,\"node_id\":\"MDEwOlJlcG9zaXRvcnkyMDQxMDA5MTE=\",\"name\":\"mad-oct-2018\",\"full_name\":\"rsennes/mad-oct-2018\",\"private\":false,\"owner\":{\"login\":\"rsennes\",\"id\":34886384,\"node_id\":\"MDQ6VXNlcjM0ODg2Mzg0\",\"avatar_url\":\"https://avatars1.githubusercontent.com/u/34886384?v=4\",\"gravatar_id\":\"\",\"url\":\"https://api.github.com/users/rsennes\",\"html_url\":\"https://github.com/rsennes\",\"followers_url\":\"https://api.github.com/users/rsennes/followers\",\"following_url\":\"https://api.github.com/users/rsennes/following{/other_user}\",\"gists_url\":\"https://api.github.com/users/rsennes/gists{/gist_id}\",\"starred_url\":\"https://api.github.com/users/rsennes/starred{/owner}{/repo}\",\"subscriptions_url\":\"https://api.github.com/users/rsennes/subscriptions\",\"organizations_url\":\"https://api.github.com/users/rsennes/orgs\",\"repos_url\":\"https://api.github.com/users/rsennes/repos\",\"events_url\":\"https://api.github.com/users/rsennes/events{/privacy}\",\"received_events_url\":\"https://api.github.com/users/rsennes/received_events\",\"type\":\"User\",\"site_admin\":false},\"html_url\":\"https://github.com/rsennes/mad-oct-2018\",\"description\":\"Student labs for Ironhack data analytics bootcamp\",\"fork\":true,\"url\":\"https://api.github.com/repos/rsennes/mad-oct-2018\",\"forks_url\":\"https://api.github.com/repos/rsennes/mad-oct-2018/forks\",\"keys_url\":\"https://api.github.com/repos/rsennes/mad-oct-2018/keys{/key_id}\",\"collaborators_url\":\"https://api.github.com/repos/rsennes/mad-oct-2018/collaborators{/collaborator}\",\"teams_url\":\"https://api.github.com/repos/rsennes/mad-oct-2018/teams\",\"hooks_url\":\"https://api.github.com/repos/rsennes/mad-oct-2018/hooks\",\"issue_events_url\":\"https://api.github.com/repos/rsennes/mad-oct-2018/issues/events{/number}\",\"events_url\":\"https://api.github.com/repos/rsennes/mad-oct-2018/events\",\"assignees_url\":\"https://api.github.com/repos/rsennes/mad-oct-2018/assignees{/user}\",\"branches_url\":\"https://api.github.com/repos/rsennes/mad-oct-2018/branches{/branch}\",\"tags_url\":\"https://api.github.com/repos/rsennes/mad-oct-2018/tags\",\"blobs_url\":\"https://api.github.com/repos/rsennes/mad-oct-2018/git/blobs{/sha}\",\"git_tags_url\":\"https://api.github.com/repos/rsennes/mad-oct-2018/git/tags{/sha}\",\"git_refs_url\":\"https://api.github.com/repos/rsennes/mad-oct-2018/git/refs{/sha}\",\"trees_url\":\"https://api.github.com/repos/rsennes/mad-oct-2018/git/trees{/sha}\",\"statuses_url\":\"https://api.github.com/repos/rsennes/mad-oct-2018/statuses/{sha}\",\"languages_url\":\"https://api.github.com/repos/rsennes/mad-oct-2018/languages\",\"stargazers_url\":\"https://api.github.com/repos/rsennes/mad-oct-2018/stargazers\",\"contributors_url\":\"https://api.github.com/repos/rsennes/mad-oct-2018/contributors\",\"subscribers_url\":\"https://api.github.com/repos/rsennes/mad-oct-2018/subscribers\",\"subscription_url\":\"https://api.github.com/repos/rsennes/mad-oct-2018/subscription\",\"commits_url\":\"https://api.github.com/repos/rsennes/mad-oct-2018/commits{/sha}\",\"git_commits_url\":\"https://api.github.com/repos/rsennes/mad-oct-2018/git/commits{/sha}\",\"comments_url\":\"https://api.github.com/repos/rsennes/mad-oct-2018/comments{/number}\",\"issue_comment_url\":\"https://api.github.com/repos/rsennes/mad-oct-2018/issues/comments{/number}\",\"contents_url\":\"https://api.github.com/repos/rsennes/mad-oct-2018/contents/{+path}\",\"compare_url\":\"https://api.github.com/repos/rsennes/mad-oct-2018/compare/{base}...{head}\",\"merges_url\":\"https://api.github.com/repos/rsennes/mad-oct-2018/merges\",\"archive_url\":\"https://api.github.com/repos/rsennes/mad-oct-2018/{archive_format}{/ref}\",\"downloads_url\":\"https://api.github.com/repos/rsennes/mad-oct-2018/downloads\",\"issues_url\":\"https://api.github.com/repos/rsennes/mad-oct-2018/issues{/number}\",\"pulls_url\":\"https://api.github.com/repos/rsennes/mad-oct-2018/pulls{/number}\",\"milestones_url\":\"https://api.github.com/repos/rsennes/mad-oct-2018/milestones{/number}\",\"notifications_url\":\"https://api.github.com/repos/rsennes/mad-oct-2018/notifications{?since,all,participating}\",\"labels_url\":\"https://api.github.com/repos/rsennes/mad-oct-2018/labels{/name}\",\"releases_url\":\"https://api.github.com/repos/rsennes/mad-oct-2018/releases{/id}\",\"deployments_url\":\"https://api.github.com/repos/rsennes/mad-oct-2018/deployments\",\"created_at\":\"2019-08-24T03:04:02Z\",\"updated_at\":\"2019-08-24T03:04:04Z\",\"pushed_at\":\"2019-08-19T11:16:55Z\",\"git_url\":\"git://github.com/rsennes/mad-oct-2018.git\",\"ssh_url\":\"git@github.com:rsennes/mad-oct-2018.git\",\"clone_url\":\"https://github.com/rsennes/mad-oct-2018.git\",\"svn_url\":\"https://github.com/rsennes/mad-oct-2018\",\"homepage\":\"\",\"size\":116995,\"stargazers_count\":0,\"watchers_count\":0,\"language\":\"Jupyter Notebook\",\"has_issues\":false,\"has_projects\":true,\"has_downloads\":true,\"has_wiki\":true,\"has_pages\":false,\"forks_count\":0,\"mirror_url\":null,\"archived\":false,\"disabled\":false,\"open_issues_count\":0,\"license\":{\"key\":\"unlicense\",\"name\":\"The Unlicense\",\"spdx_id\":\"Unlicense\",\"url\":\"https://api.github.com/licenses/unlicense\",\"node_id\":\"MDc6TGljZW5zZTE1\"},\"forks\":0,\"open_issues\":0,\"watchers\":0,\"default_branch\":\"master\"},{\"id\":200138127,\"node_id\":\"MDEwOlJlcG9zaXRvcnkyMDAxMzgxMjc=\",\"name\":\"mad-oct-2018\",\"full_name\":\"gggfaria/mad-oct-2018\",\"private\":false,\"owner\":{\"login\":\"gggfaria\",\"id\":13389357,\"node_id\":\"MDQ6VXNlcjEzMzg5MzU3\",\"avatar_url\":\"https://avatars0.githubusercontent.com/u/13389357?v=4\",\"gravatar_id\":\"\",\"url\":\"https://api.github.com/users/gggfaria\",\"html_url\":\"https://github.com/gggfaria\",\"followers_url\":\"https://api.github.com/users/gggfaria/followers\",\"following_url\":\"https://api.github.com/users/gggfaria/following{/other_user}\",\"gists_url\":\"https://api.github.com/users/gggfaria/gists{/gist_id}\",\"starred_url\":\"https://api.github.com/users/gggfaria/starred{/owner}{/repo}\",\"subscriptions_url\":\"https://api.github.com/users/gggfaria/subscriptions\",\"organizations_url\":\"https://api.github.com/users/gggfaria/orgs\",\"repos_url\":\"https://api.github.com/users/gggfaria/repos\",\"events_url\":\"https://api.github.com/users/gggfaria/events{/privacy}\",\"received_events_url\":\"https://api.github.com/users/gggfaria/received_events\",\"type\":\"User\",\"site_admin\":false},\"html_url\":\"https://github.com/gggfaria/mad-oct-2018\",\"description\":\"Student labs for Ironhack data analytics bootcamp\",\"fork\":true,\"url\":\"https://api.github.com/repos/gggfaria/mad-oct-2018\",\"forks_url\":\"https://api.github.com/repos/gggfaria/mad-oct-2018/forks\",\"keys_url\":\"https://api.github.com/repos/gggfaria/mad-oct-2018/keys{/key_id}\",\"collaborators_url\":\"https://api.github.com/repos/gggfaria/mad-oct-2018/collaborators{/collaborator}\",\"teams_url\":\"https://api.github.com/repos/gggfaria/mad-oct-2018/teams\",\"hooks_url\":\"https://api.github.com/repos/gggfaria/mad-oct-2018/hooks\",\"issue_events_url\":\"https://api.github.com/repos/gggfaria/mad-oct-2018/issues/events{/number}\",\"events_url\":\"https://api.github.com/repos/gggfaria/mad-oct-2018/events\",\"assignees_url\":\"https://api.github.com/repos/gggfaria/mad-oct-2018/assignees{/user}\",\"branches_url\":\"https://api.github.com/repos/gggfaria/mad-oct-2018/branches{/branch}\",\"tags_url\":\"https://api.github.com/repos/gggfaria/mad-oct-2018/tags\",\"blobs_url\":\"https://api.github.com/repos/gggfaria/mad-oct-2018/git/blobs{/sha}\",\"git_tags_url\":\"https://api.github.com/repos/gggfaria/mad-oct-2018/git/tags{/sha}\",\"git_refs_url\":\"https://api.github.com/repos/gggfaria/mad-oct-2018/git/refs{/sha}\",\"trees_url\":\"https://api.github.com/repos/gggfaria/mad-oct-2018/git/trees{/sha}\",\"statuses_url\":\"https://api.github.com/repos/gggfaria/mad-oct-2018/statuses/{sha}\",\"languages_url\":\"https://api.github.com/repos/gggfaria/mad-oct-2018/languages\",\"stargazers_url\":\"https://api.github.com/repos/gggfaria/mad-oct-2018/stargazers\",\"contributors_url\":\"https://api.github.com/repos/gggfaria/mad-oct-2018/contributors\",\"subscribers_url\":\"https://api.github.com/repos/gggfaria/mad-oct-2018/subscribers\",\"subscription_url\":\"https://api.github.com/repos/gggfaria/mad-oct-2018/subscription\",\"commits_url\":\"https://api.github.com/repos/gggfaria/mad-oct-2018/commits{/sha}\",\"git_commits_url\":\"https://api.github.com/repos/gggfaria/mad-oct-2018/git/commits{/sha}\",\"comments_url\":\"https://api.github.com/repos/gggfaria/mad-oct-2018/comments{/number}\",\"issue_comment_url\":\"https://api.github.com/repos/gggfaria/mad-oct-2018/issues/comments{/number}\",\"contents_url\":\"https://api.github.com/repos/gggfaria/mad-oct-2018/contents/{+path}\",\"compare_url\":\"https://api.github.com/repos/gggfaria/mad-oct-2018/compare/{base}...{head}\",\"merges_url\":\"https://api.github.com/repos/gggfaria/mad-oct-2018/merges\",\"archive_url\":\"https://api.github.com/repos/gggfaria/mad-oct-2018/{archive_format}{/ref}\",\"downloads_url\":\"https://api.github.com/repos/gggfaria/mad-oct-2018/downloads\",\"issues_url\":\"https://api.github.com/repos/gggfaria/mad-oct-2018/issues{/number}\",\"pulls_url\":\"https://api.github.com/repos/gggfaria/mad-oct-2018/pulls{/number}\",\"milestones_url\":\"https://api.github.com/repos/gggfaria/mad-oct-2018/milestones{/number}\",\"notifications_url\":\"https://api.github.com/repos/gggfaria/mad-oct-2018/notifications{?since,all,participating}\",\"labels_url\":\"https://api.github.com/repos/gggfaria/mad-oct-2018/labels{/name}\",\"releases_url\":\"https://api.github.com/repos/gggfaria/mad-oct-2018/releases{/id}\",\"deployments_url\":\"https://api.github.com/repos/gggfaria/mad-oct-2018/deployments\",\"created_at\":\"2019-08-02T00:46:50Z\",\"updated_at\":\"2019-08-02T00:46:54Z\",\"pushed_at\":\"2019-03-07T15:49:17Z\",\"git_url\":\"git://github.com/gggfaria/mad-oct-2018.git\",\"ssh_url\":\"git@github.com:gggfaria/mad-oct-2018.git\",\"clone_url\":\"https://github.com/gggfaria/mad-oct-2018.git\",\"svn_url\":\"https://github.com/gggfaria/mad-oct-2018\",\"homepage\":\"\",\"size\":117003,\"stargazers_count\":0,\"watchers_count\":0,\"language\":\"Jupyter Notebook\",\"has_issues\":false,\"has_projects\":true,\"has_downloads\":true,\"has_wiki\":true,\"has_pages\":false,\"forks_count\":0,\"mirror_url\":null,\"archived\":false,\"disabled\":false,\"open_issues_count\":0,\"license\":{\"key\":\"unlicense\",\"name\":\"The Unlicense\",\"spdx_id\":\"Unlicense\",\"url\":\"https://api.github.com/licenses/unlicense\",\"node_id\":\"MDc6TGljZW5zZTE1\"},\"forks\":0,\"open_issues\":0,\"watchers\":0,\"default_branch\":\"master\"},{\"id\":198273438,\"node_id\":\"MDEwOlJlcG9zaXRvcnkxOTgyNzM0Mzg=\",\"name\":\"mad-oct-2018\",\"full_name\":\"nancyulric/mad-oct-2018\",\"private\":false,\"owner\":{\"login\":\"nancyulric\",\"id\":50028113,\"node_id\":\"MDQ6VXNlcjUwMDI4MTEz\",\"avatar_url\":\"https://avatars2.githubusercontent.com/u/50028113?v=4\",\"gravatar_id\":\"\",\"url\":\"https://api.github.com/users/nancyulric\",\"html_url\":\"https://github.com/nancyulric\",\"followers_url\":\"https://api.github.com/users/nancyulric/followers\",\"following_url\":\"https://api.github.com/users/nancyulric/following{/other_user}\",\"gists_url\":\"https://api.github.com/users/nancyulric/gists{/gist_id}\",\"starred_url\":\"https://api.github.com/users/nancyulric/starred{/owner}{/repo}\",\"subscriptions_url\":\"https://api.github.com/users/nancyulric/subscriptions\",\"organizations_url\":\"https://api.github.com/users/nancyulric/orgs\",\"repos_url\":\"https://api.github.com/users/nancyulric/repos\",\"events_url\":\"https://api.github.com/users/nancyulric/events{/privacy}\",\"received_events_url\":\"https://api.github.com/users/nancyulric/received_events\",\"type\":\"User\",\"site_admin\":false},\"html_url\":\"https://github.com/nancyulric/mad-oct-2018\",\"description\":\"Student labs for Ironhack data analytics bootcamp\",\"fork\":true,\"url\":\"https://api.github.com/repos/nancyulric/mad-oct-2018\",\"forks_url\":\"https://api.github.com/repos/nancyulric/mad-oct-2018/forks\",\"keys_url\":\"https://api.github.com/repos/nancyulric/mad-oct-2018/keys{/key_id}\",\"collaborators_url\":\"https://api.github.com/repos/nancyulric/mad-oct-2018/collaborators{/collaborator}\",\"teams_url\":\"https://api.github.com/repos/nancyulric/mad-oct-2018/teams\",\"hooks_url\":\"https://api.github.com/repos/nancyulric/mad-oct-2018/hooks\",\"issue_events_url\":\"https://api.github.com/repos/nancyulric/mad-oct-2018/issues/events{/number}\",\"events_url\":\"https://api.github.com/repos/nancyulric/mad-oct-2018/events\",\"assignees_url\":\"https://api.github.com/repos/nancyulric/mad-oct-2018/assignees{/user}\",\"branches_url\":\"https://api.github.com/repos/nancyulric/mad-oct-2018/branches{/branch}\",\"tags_url\":\"https://api.github.com/repos/nancyulric/mad-oct-2018/tags\",\"blobs_url\":\"https://api.github.com/repos/nancyulric/mad-oct-2018/git/blobs{/sha}\",\"git_tags_url\":\"https://api.github.com/repos/nancyulric/mad-oct-2018/git/tags{/sha}\",\"git_refs_url\":\"https://api.github.com/repos/nancyulric/mad-oct-2018/git/refs{/sha}\",\"trees_url\":\"https://api.github.com/repos/nancyulric/mad-oct-2018/git/trees{/sha}\",\"statuses_url\":\"https://api.github.com/repos/nancyulric/mad-oct-2018/statuses/{sha}\",\"languages_url\":\"https://api.github.com/repos/nancyulric/mad-oct-2018/languages\",\"stargazers_url\":\"https://api.github.com/repos/nancyulric/mad-oct-2018/stargazers\",\"contributors_url\":\"https://api.github.com/repos/nancyulric/mad-oct-2018/contributors\",\"subscribers_url\":\"https://api.github.com/repos/nancyulric/mad-oct-2018/subscribers\",\"subscription_url\":\"https://api.github.com/repos/nancyulric/mad-oct-2018/subscription\",\"commits_url\":\"https://api.github.com/repos/nancyulric/mad-oct-2018/commits{/sha}\",\"git_commits_url\":\"https://api.github.com/repos/nancyulric/mad-oct-2018/git/commits{/sha}\",\"comments_url\":\"https://api.github.com/repos/nancyulric/mad-oct-2018/comments{/number}\",\"issue_comment_url\":\"https://api.github.com/repos/nancyulric/mad-oct-2018/issues/comments{/number}\",\"contents_url\":\"https://api.github.com/repos/nancyulric/mad-oct-2018/contents/{+path}\",\"compare_url\":\"https://api.github.com/repos/nancyulric/mad-oct-2018/compare/{base}...{head}\",\"merges_url\":\"https://api.github.com/repos/nancyulric/mad-oct-2018/merges\",\"archive_url\":\"https://api.github.com/repos/nancyulric/mad-oct-2018/{archive_format}{/ref}\",\"downloads_url\":\"https://api.github.com/repos/nancyulric/mad-oct-2018/downloads\",\"issues_url\":\"https://api.github.com/repos/nancyulric/mad-oct-2018/issues{/number}\",\"pulls_url\":\"https://api.github.com/repos/nancyulric/mad-oct-2018/pulls{/number}\",\"milestones_url\":\"https://api.github.com/repos/nancyulric/mad-oct-2018/milestones{/number}\",\"notifications_url\":\"https://api.github.com/repos/nancyulric/mad-oct-2018/notifications{?since,all,participating}\",\"labels_url\":\"https://api.github.com/repos/nancyulric/mad-oct-2018/labels{/name}\",\"releases_url\":\"https://api.github.com/repos/nancyulric/mad-oct-2018/releases{/id}\",\"deployments_url\":\"https://api.github.com/repos/nancyulric/mad-oct-2018/deployments\",\"created_at\":\"2019-07-22T17:41:08Z\",\"updated_at\":\"2019-07-22T17:41:13Z\",\"pushed_at\":\"2019-03-07T15:49:17Z\",\"git_url\":\"git://github.com/nancyulric/mad-oct-2018.git\",\"ssh_url\":\"git@github.com:nancyulric/mad-oct-2018.git\",\"clone_url\":\"https://github.com/nancyulric/mad-oct-2018.git\",\"svn_url\":\"https://github.com/nancyulric/mad-oct-2018\",\"homepage\":\"\",\"size\":117003,\"stargazers_count\":0,\"watchers_count\":0,\"language\":\"Jupyter Notebook\",\"has_issues\":false,\"has_projects\":true,\"has_downloads\":true,\"has_wiki\":true,\"has_pages\":false,\"forks_count\":0,\"mirror_url\":null,\"archived\":false,\"disabled\":false,\"open_issues_count\":0,\"license\":{\"key\":\"unlicense\",\"name\":\"The Unlicense\",\"spdx_id\":\"Unlicense\",\"url\":\"https://api.github.com/licenses/unlicense\",\"node_id\":\"MDc6TGljZW5zZTE1\"},\"forks\":0,\"open_issues\":0,\"watchers\":0,\"default_branch\":\"master\"},{\"id\":167001044,\"node_id\":\"MDEwOlJlcG9zaXRvcnkxNjcwMDEwNDQ=\",\"name\":\"datamad0119\",\"full_name\":\"lmartinezruizit/datamad0119\",\"private\":false,\"owner\":{\"login\":\"lmartinezruizit\",\"id\":25184023,\"node_id\":\"MDQ6VXNlcjI1MTg0MDIz\",\"avatar_url\":\"https://avatars2.githubusercontent.com/u/25184023?v=4\",\"gravatar_id\":\"\",\"url\":\"https://api.github.com/users/lmartinezruizit\",\"html_url\":\"https://github.com/lmartinezruizit\",\"followers_url\":\"https://api.github.com/users/lmartinezruizit/followers\",\"following_url\":\"https://api.github.com/users/lmartinezruizit/following{/other_user}\",\"gists_url\":\"https://api.github.com/users/lmartinezruizit/gists{/gist_id}\",\"starred_url\":\"https://api.github.com/users/lmartinezruizit/starred{/owner}{/repo}\",\"subscriptions_url\":\"https://api.github.com/users/lmartinezruizit/subscriptions\",\"organizations_url\":\"https://api.github.com/users/lmartinezruizit/orgs\",\"repos_url\":\"https://api.github.com/users/lmartinezruizit/repos\",\"events_url\":\"https://api.github.com/users/lmartinezruizit/events{/privacy}\",\"received_events_url\":\"https://api.github.com/users/lmartinezruizit/received_events\",\"type\":\"User\",\"site_admin\":false},\"html_url\":\"https://github.com/lmartinezruizit/datamad0119\",\"description\":\"Student labs for Ironhack data analytics bootcamp\",\"fork\":true,\"url\":\"https://api.github.com/repos/lmartinezruizit/datamad0119\",\"forks_url\":\"https://api.github.com/repos/lmartinezruizit/datamad0119/forks\",\"keys_url\":\"https://api.github.com/repos/lmartinezruizit/datamad0119/keys{/key_id}\",\"collaborators_url\":\"https://api.github.com/repos/lmartinezruizit/datamad0119/collaborators{/collaborator}\",\"teams_url\":\"https://api.github.com/repos/lmartinezruizit/datamad0119/teams\",\"hooks_url\":\"https://api.github.com/repos/lmartinezruizit/datamad0119/hooks\",\"issue_events_url\":\"https://api.github.com/repos/lmartinezruizit/datamad0119/issues/events{/number}\",\"events_url\":\"https://api.github.com/repos/lmartinezruizit/datamad0119/events\",\"assignees_url\":\"https://api.github.com/repos/lmartinezruizit/datamad0119/assignees{/user}\",\"branches_url\":\"https://api.github.com/repos/lmartinezruizit/datamad0119/branches{/branch}\",\"tags_url\":\"https://api.github.com/repos/lmartinezruizit/datamad0119/tags\",\"blobs_url\":\"https://api.github.com/repos/lmartinezruizit/datamad0119/git/blobs{/sha}\",\"git_tags_url\":\"https://api.github.com/repos/lmartinezruizit/datamad0119/git/tags{/sha}\",\"git_refs_url\":\"https://api.github.com/repos/lmartinezruizit/datamad0119/git/refs{/sha}\",\"trees_url\":\"https://api.github.com/repos/lmartinezruizit/datamad0119/git/trees{/sha}\",\"statuses_url\":\"https://api.github.com/repos/lmartinezruizit/datamad0119/statuses/{sha}\",\"languages_url\":\"https://api.github.com/repos/lmartinezruizit/datamad0119/languages\",\"stargazers_url\":\"https://api.github.com/repos/lmartinezruizit/datamad0119/stargazers\",\"contributors_url\":\"https://api.github.com/repos/lmartinezruizit/datamad0119/contributors\",\"subscribers_url\":\"https://api.github.com/repos/lmartinezruizit/datamad0119/subscribers\",\"subscription_url\":\"https://api.github.com/repos/lmartinezruizit/datamad0119/subscription\",\"commits_url\":\"https://api.github.com/repos/lmartinezruizit/datamad0119/commits{/sha}\",\"git_commits_url\":\"https://api.github.com/repos/lmartinezruizit/datamad0119/git/commits{/sha}\",\"comments_url\":\"https://api.github.com/repos/lmartinezruizit/datamad0119/comments{/number}\",\"issue_comment_url\":\"https://api.github.com/repos/lmartinezruizit/datamad0119/issues/comments{/number}\",\"contents_url\":\"https://api.github.com/repos/lmartinezruizit/datamad0119/contents/{+path}\",\"compare_url\":\"https://api.github.com/repos/lmartinezruizit/datamad0119/compare/{base}...{head}\",\"merges_url\":\"https://api.github.com/repos/lmartinezruizit/datamad0119/merges\",\"archive_url\":\"https://api.github.com/repos/lmartinezruizit/datamad0119/{archive_format}{/ref}\",\"downloads_url\":\"https://api.github.com/repos/lmartinezruizit/datamad0119/downloads\",\"issues_url\":\"https://api.github.com/repos/lmartinezruizit/datamad0119/issues{/number}\",\"pulls_url\":\"https://api.github.com/repos/lmartinezruizit/datamad0119/pulls{/number}\",\"milestones_url\":\"https://api.github.com/repos/lmartinezruizit/datamad0119/milestones{/number}\",\"notifications_url\":\"https://api.github.com/repos/lmartinezruizit/datamad0119/notifications{?since,all,participating}\",\"labels_url\":\"https://api.github.com/repos/lmartinezruizit/datamad0119/labels{/name}\",\"releases_url\":\"https://api.github.com/repos/lmartinezruizit/datamad0119/releases{/id}\",\"deployments_url\":\"https://api.github.com/repos/lmartinezruizit/datamad0119/deployments\",\"created_at\":\"2019-01-22T13:42:30Z\",\"updated_at\":\"2019-01-22T13:42:33Z\",\"pushed_at\":\"2019-01-22T08:34:08Z\",\"git_url\":\"git://github.com/lmartinezruizit/datamad0119.git\",\"ssh_url\":\"git@github.com:lmartinezruizit/datamad0119.git\",\"clone_url\":\"https://github.com/lmartinezruizit/datamad0119.git\",\"svn_url\":\"https://github.com/lmartinezruizit/datamad0119\",\"homepage\":\"\",\"size\":116993,\"stargazers_count\":0,\"watchers_count\":0,\"language\":\"Jupyter Notebook\",\"has_issues\":false,\"has_projects\":true,\"has_downloads\":true,\"has_wiki\":true,\"has_pages\":false,\"forks_count\":0,\"mirror_url\":null,\"archived\":false,\"disabled\":false,\"open_issues_count\":0,\"license\":{\"key\":\"unlicense\",\"name\":\"The Unlicense\",\"spdx_id\":\"Unlicense\",\"url\":\"https://api.github.com/licenses/unlicense\",\"node_id\":\"MDc6TGljZW5zZTE1\"},\"forks\":0,\"open_issues\":0,\"watchers\":0,\"default_branch\":\"master\"},{\"id\":162498469,\"node_id\":\"MDEwOlJlcG9zaXRvcnkxNjI0OTg0Njk=\",\"name\":\"madrid-oct-2018\",\"full_name\":\"eye8/madrid-oct-2018\",\"private\":false,\"owner\":{\"login\":\"eye8\",\"id\":1659798,\"node_id\":\"MDQ6VXNlcjE2NTk3OTg=\",\"avatar_url\":\"https://avatars3.githubusercontent.com/u/1659798?v=4\",\"gravatar_id\":\"\",\"url\":\"https://api.github.com/users/eye8\",\"html_url\":\"https://github.com/eye8\",\"followers_url\":\"https://api.github.com/users/eye8/followers\",\"following_url\":\"https://api.github.com/users/eye8/following{/other_user}\",\"gists_url\":\"https://api.github.com/users/eye8/gists{/gist_id}\",\"starred_url\":\"https://api.github.com/users/eye8/starred{/owner}{/repo}\",\"subscriptions_url\":\"https://api.github.com/users/eye8/subscriptions\",\"organizations_url\":\"https://api.github.com/users/eye8/orgs\",\"repos_url\":\"https://api.github.com/users/eye8/repos\",\"events_url\":\"https://api.github.com/users/eye8/events{/privacy}\",\"received_events_url\":\"https://api.github.com/users/eye8/received_events\",\"type\":\"User\",\"site_admin\":false},\"html_url\":\"https://github.com/eye8/madrid-oct-2018\",\"description\":\"Student labs for Ironhack\\'s very first Data Analytics bootcamp!\",\"fork\":true,\"url\":\"https://api.github.com/repos/eye8/madrid-oct-2018\",\"forks_url\":\"https://api.github.com/repos/eye8/madrid-oct-2018/forks\",\"keys_url\":\"https://api.github.com/repos/eye8/madrid-oct-2018/keys{/key_id}\",\"collaborators_url\":\"https://api.github.com/repos/eye8/madrid-oct-2018/collaborators{/collaborator}\",\"teams_url\":\"https://api.github.com/repos/eye8/madrid-oct-2018/teams\",\"hooks_url\":\"https://api.github.com/repos/eye8/madrid-oct-2018/hooks\",\"issue_events_url\":\"https://api.github.com/repos/eye8/madrid-oct-2018/issues/events{/number}\",\"events_url\":\"https://api.github.com/repos/eye8/madrid-oct-2018/events\",\"assignees_url\":\"https://api.github.com/repos/eye8/madrid-oct-2018/assignees{/user}\",\"branches_url\":\"https://api.github.com/repos/eye8/madrid-oct-2018/branches{/branch}\",\"tags_url\":\"https://api.github.com/repos/eye8/madrid-oct-2018/tags\",\"blobs_url\":\"https://api.github.com/repos/eye8/madrid-oct-2018/git/blobs{/sha}\",\"git_tags_url\":\"https://api.github.com/repos/eye8/madrid-oct-2018/git/tags{/sha}\",\"git_refs_url\":\"https://api.github.com/repos/eye8/madrid-oct-2018/git/refs{/sha}\",\"trees_url\":\"https://api.github.com/repos/eye8/madrid-oct-2018/git/trees{/sha}\",\"statuses_url\":\"https://api.github.com/repos/eye8/madrid-oct-2018/statuses/{sha}\",\"languages_url\":\"https://api.github.com/repos/eye8/madrid-oct-2018/languages\",\"stargazers_url\":\"https://api.github.com/repos/eye8/madrid-oct-2018/stargazers\",\"contributors_url\":\"https://api.github.com/repos/eye8/madrid-oct-2018/contributors\",\"subscribers_url\":\"https://api.github.com/repos/eye8/madrid-oct-2018/subscribers\",\"subscription_url\":\"https://api.github.com/repos/eye8/madrid-oct-2018/subscription\",\"commits_url\":\"https://api.github.com/repos/eye8/madrid-oct-2018/commits{/sha}\",\"git_commits_url\":\"https://api.github.com/repos/eye8/madrid-oct-2018/git/commits{/sha}\",\"comments_url\":\"https://api.github.com/repos/eye8/madrid-oct-2018/comments{/number}\",\"issue_comment_url\":\"https://api.github.com/repos/eye8/madrid-oct-2018/issues/comments{/number}\",\"contents_url\":\"https://api.github.com/repos/eye8/madrid-oct-2018/contents/{+path}\",\"compare_url\":\"https://api.github.com/repos/eye8/madrid-oct-2018/compare/{base}...{head}\",\"merges_url\":\"https://api.github.com/repos/eye8/madrid-oct-2018/merges\",\"archive_url\":\"https://api.github.com/repos/eye8/madrid-oct-2018/{archive_format}{/ref}\",\"downloads_url\":\"https://api.github.com/repos/eye8/madrid-oct-2018/downloads\",\"issues_url\":\"https://api.github.com/repos/eye8/madrid-oct-2018/issues{/number}\",\"pulls_url\":\"https://api.github.com/repos/eye8/madrid-oct-2018/pulls{/number}\",\"milestones_url\":\"https://api.github.com/repos/eye8/madrid-oct-2018/milestones{/number}\",\"notifications_url\":\"https://api.github.com/repos/eye8/madrid-oct-2018/notifications{?since,all,participating}\",\"labels_url\":\"https://api.github.com/repos/eye8/madrid-oct-2018/labels{/name}\",\"releases_url\":\"https://api.github.com/repos/eye8/madrid-oct-2018/releases{/id}\",\"deployments_url\":\"https://api.github.com/repos/eye8/madrid-oct-2018/deployments\",\"created_at\":\"2018-12-19T22:40:28Z\",\"updated_at\":\"2018-12-19T22:40:32Z\",\"pushed_at\":\"2018-12-19T22:45:49Z\",\"git_url\":\"git://github.com/eye8/madrid-oct-2018.git\",\"ssh_url\":\"git@github.com:eye8/madrid-oct-2018.git\",\"clone_url\":\"https://github.com/eye8/madrid-oct-2018.git\",\"svn_url\":\"https://github.com/eye8/madrid-oct-2018\",\"homepage\":\"\",\"size\":140237,\"stargazers_count\":0,\"watchers_count\":0,\"language\":\"Jupyter Notebook\",\"has_issues\":false,\"has_projects\":true,\"has_downloads\":true,\"has_wiki\":true,\"has_pages\":false,\"forks_count\":0,\"mirror_url\":null,\"archived\":false,\"disabled\":false,\"open_issues_count\":0,\"license\":{\"key\":\"unlicense\",\"name\":\"The Unlicense\",\"spdx_id\":\"Unlicense\",\"url\":\"https://api.github.com/licenses/unlicense\",\"node_id\":\"MDc6TGljZW5zZTE1\"},\"forks\":0,\"open_issues\":0,\"watchers\":0,\"default_branch\":\"master\"},{\"id\":154625001,\"node_id\":\"MDEwOlJlcG9zaXRvcnkxNTQ2MjUwMDE=\",\"name\":\"madrid-oct-2018\",\"full_name\":\"ArieHassan/madrid-oct-2018\",\"private\":false,\"owner\":{\"login\":\"ArieHassan\",\"id\":43290133,\"node_id\":\"MDQ6VXNlcjQzMjkwMTMz\",\"avatar_url\":\"https://avatars2.githubusercontent.com/u/43290133?v=4\",\"gravatar_id\":\"\",\"url\":\"https://api.github.com/users/ArieHassan\",\"html_url\":\"https://github.com/ArieHassan\",\"followers_url\":\"https://api.github.com/users/ArieHassan/followers\",\"following_url\":\"https://api.github.com/users/ArieHassan/following{/other_user}\",\"gists_url\":\"https://api.github.com/users/ArieHassan/gists{/gist_id}\",\"starred_url\":\"https://api.github.com/users/ArieHassan/starred{/owner}{/repo}\",\"subscriptions_url\":\"https://api.github.com/users/ArieHassan/subscriptions\",\"organizations_url\":\"https://api.github.com/users/ArieHassan/orgs\",\"repos_url\":\"https://api.github.com/users/ArieHassan/repos\",\"events_url\":\"https://api.github.com/users/ArieHassan/events{/privacy}\",\"received_events_url\":\"https://api.github.com/users/ArieHassan/received_events\",\"type\":\"User\",\"site_admin\":false},\"html_url\":\"https://github.com/ArieHassan/madrid-oct-2018\",\"description\":\"Student labs for Ironhack\\'s very first Data Analytics bootcamp!\",\"fork\":true,\"url\":\"https://api.github.com/repos/ArieHassan/madrid-oct-2018\",\"forks_url\":\"https://api.github.com/repos/ArieHassan/madrid-oct-2018/forks\",\"keys_url\":\"https://api.github.com/repos/ArieHassan/madrid-oct-2018/keys{/key_id}\",\"collaborators_url\":\"https://api.github.com/repos/ArieHassan/madrid-oct-2018/collaborators{/collaborator}\",\"teams_url\":\"https://api.github.com/repos/ArieHassan/madrid-oct-2018/teams\",\"hooks_url\":\"https://api.github.com/repos/ArieHassan/madrid-oct-2018/hooks\",\"issue_events_url\":\"https://api.github.com/repos/ArieHassan/madrid-oct-2018/issues/events{/number}\",\"events_url\":\"https://api.github.com/repos/ArieHassan/madrid-oct-2018/events\",\"assignees_url\":\"https://api.github.com/repos/ArieHassan/madrid-oct-2018/assignees{/user}\",\"branches_url\":\"https://api.github.com/repos/ArieHassan/madrid-oct-2018/branches{/branch}\",\"tags_url\":\"https://api.github.com/repos/ArieHassan/madrid-oct-2018/tags\",\"blobs_url\":\"https://api.github.com/repos/ArieHassan/madrid-oct-2018/git/blobs{/sha}\",\"git_tags_url\":\"https://api.github.com/repos/ArieHassan/madrid-oct-2018/git/tags{/sha}\",\"git_refs_url\":\"https://api.github.com/repos/ArieHassan/madrid-oct-2018/git/refs{/sha}\",\"trees_url\":\"https://api.github.com/repos/ArieHassan/madrid-oct-2018/git/trees{/sha}\",\"statuses_url\":\"https://api.github.com/repos/ArieHassan/madrid-oct-2018/statuses/{sha}\",\"languages_url\":\"https://api.github.com/repos/ArieHassan/madrid-oct-2018/languages\",\"stargazers_url\":\"https://api.github.com/repos/ArieHassan/madrid-oct-2018/stargazers\",\"contributors_url\":\"https://api.github.com/repos/ArieHassan/madrid-oct-2018/contributors\",\"subscribers_url\":\"https://api.github.com/repos/ArieHassan/madrid-oct-2018/subscribers\",\"subscription_url\":\"https://api.github.com/repos/ArieHassan/madrid-oct-2018/subscription\",\"commits_url\":\"https://api.github.com/repos/ArieHassan/madrid-oct-2018/commits{/sha}\",\"git_commits_url\":\"https://api.github.com/repos/ArieHassan/madrid-oct-2018/git/commits{/sha}\",\"comments_url\":\"https://api.github.com/repos/ArieHassan/madrid-oct-2018/comments{/number}\",\"issue_comment_url\":\"https://api.github.com/repos/ArieHassan/madrid-oct-2018/issues/comments{/number}\",\"contents_url\":\"https://api.github.com/repos/ArieHassan/madrid-oct-2018/contents/{+path}\",\"compare_url\":\"https://api.github.com/repos/ArieHassan/madrid-oct-2018/compare/{base}...{head}\",\"merges_url\":\"https://api.github.com/repos/ArieHassan/madrid-oct-2018/merges\",\"archive_url\":\"https://api.github.com/repos/ArieHassan/madrid-oct-2018/{archive_format}{/ref}\",\"downloads_url\":\"https://api.github.com/repos/ArieHassan/madrid-oct-2018/downloads\",\"issues_url\":\"https://api.github.com/repos/ArieHassan/madrid-oct-2018/issues{/number}\",\"pulls_url\":\"https://api.github.com/repos/ArieHassan/madrid-oct-2018/pulls{/number}\",\"milestones_url\":\"https://api.github.com/repos/ArieHassan/madrid-oct-2018/milestones{/number}\",\"notifications_url\":\"https://api.github.com/repos/ArieHassan/madrid-oct-2018/notifications{?since,all,participating}\",\"labels_url\":\"https://api.github.com/repos/ArieHassan/madrid-oct-2018/labels{/name}\",\"releases_url\":\"https://api.github.com/repos/ArieHassan/madrid-oct-2018/releases{/id}\",\"deployments_url\":\"https://api.github.com/repos/ArieHassan/madrid-oct-2018/deployments\",\"created_at\":\"2018-10-25T07:02:32Z\",\"updated_at\":\"2018-10-31T11:39:38Z\",\"pushed_at\":\"2018-12-10T16:51:00Z\",\"git_url\":\"git://github.com/ArieHassan/madrid-oct-2018.git\",\"ssh_url\":\"git@github.com:ArieHassan/madrid-oct-2018.git\",\"clone_url\":\"https://github.com/ArieHassan/madrid-oct-2018.git\",\"svn_url\":\"https://github.com/ArieHassan/madrid-oct-2018\",\"homepage\":\"\",\"size\":69773,\"stargazers_count\":0,\"watchers_count\":0,\"language\":\"HTML\",\"has_issues\":false,\"has_projects\":true,\"has_downloads\":true,\"has_wiki\":true,\"has_pages\":false,\"forks_count\":0,\"mirror_url\":null,\"archived\":false,\"disabled\":false,\"open_issues_count\":0,\"license\":{\"key\":\"unlicense\",\"name\":\"The Unlicense\",\"spdx_id\":\"Unlicense\",\"url\":\"https://api.github.com/licenses/unlicense\",\"node_id\":\"MDc6TGljZW5zZTE1\"},\"forks\":0,\"open_issues\":0,\"watchers\":0,\"default_branch\":\"master\"},{\"id\":154291113,\"node_id\":\"MDEwOlJlcG9zaXRvcnkxNTQyOTExMTM=\",\"name\":\"madrid-oct-2018\",\"full_name\":\"cmvalma/madrid-oct-2018\",\"private\":false,\"owner\":{\"login\":\"cmvalma\",\"id\":44215634,\"node_id\":\"MDQ6VXNlcjQ0MjE1NjM0\",\"avatar_url\":\"https://avatars3.githubusercontent.com/u/44215634?v=4\",\"gravatar_id\":\"\",\"url\":\"https://api.github.com/users/cmvalma\",\"html_url\":\"https://github.com/cmvalma\",\"followers_url\":\"https://api.github.com/users/cmvalma/followers\",\"following_url\":\"https://api.github.com/users/cmvalma/following{/other_user}\",\"gists_url\":\"https://api.github.com/users/cmvalma/gists{/gist_id}\",\"starred_url\":\"https://api.github.com/users/cmvalma/starred{/owner}{/repo}\",\"subscriptions_url\":\"https://api.github.com/users/cmvalma/subscriptions\",\"organizations_url\":\"https://api.github.com/users/cmvalma/orgs\",\"repos_url\":\"https://api.github.com/users/cmvalma/repos\",\"events_url\":\"https://api.github.com/users/cmvalma/events{/privacy}\",\"received_events_url\":\"https://api.github.com/users/cmvalma/received_events\",\"type\":\"User\",\"site_admin\":false},\"html_url\":\"https://github.com/cmvalma/madrid-oct-2018\",\"description\":null,\"fork\":true,\"url\":\"https://api.github.com/repos/cmvalma/madrid-oct-2018\",\"forks_url\":\"https://api.github.com/repos/cmvalma/madrid-oct-2018/forks\",\"keys_url\":\"https://api.github.com/repos/cmvalma/madrid-oct-2018/keys{/key_id}\",\"collaborators_url\":\"https://api.github.com/repos/cmvalma/madrid-oct-2018/collaborators{/collaborator}\",\"teams_url\":\"https://api.github.com/repos/cmvalma/madrid-oct-2018/teams\",\"hooks_url\":\"https://api.github.com/repos/cmvalma/madrid-oct-2018/hooks\",\"issue_events_url\":\"https://api.github.com/repos/cmvalma/madrid-oct-2018/issues/events{/number}\",\"events_url\":\"https://api.github.com/repos/cmvalma/madrid-oct-2018/events\",\"assignees_url\":\"https://api.github.com/repos/cmvalma/madrid-oct-2018/assignees{/user}\",\"branches_url\":\"https://api.github.com/repos/cmvalma/madrid-oct-2018/branches{/branch}\",\"tags_url\":\"https://api.github.com/repos/cmvalma/madrid-oct-2018/tags\",\"blobs_url\":\"https://api.github.com/repos/cmvalma/madrid-oct-2018/git/blobs{/sha}\",\"git_tags_url\":\"https://api.github.com/repos/cmvalma/madrid-oct-2018/git/tags{/sha}\",\"git_refs_url\":\"https://api.github.com/repos/cmvalma/madrid-oct-2018/git/refs{/sha}\",\"trees_url\":\"https://api.github.com/repos/cmvalma/madrid-oct-2018/git/trees{/sha}\",\"statuses_url\":\"https://api.github.com/repos/cmvalma/madrid-oct-2018/statuses/{sha}\",\"languages_url\":\"https://api.github.com/repos/cmvalma/madrid-oct-2018/languages\",\"stargazers_url\":\"https://api.github.com/repos/cmvalma/madrid-oct-2018/stargazers\",\"contributors_url\":\"https://api.github.com/repos/cmvalma/madrid-oct-2018/contributors\",\"subscribers_url\":\"https://api.github.com/repos/cmvalma/madrid-oct-2018/subscribers\",\"subscription_url\":\"https://api.github.com/repos/cmvalma/madrid-oct-2018/subscription\",\"commits_url\":\"https://api.github.com/repos/cmvalma/madrid-oct-2018/commits{/sha}\",\"git_commits_url\":\"https://api.github.com/repos/cmvalma/madrid-oct-2018/git/commits{/sha}\",\"comments_url\":\"https://api.github.com/repos/cmvalma/madrid-oct-2018/comments{/number}\",\"issue_comment_url\":\"https://api.github.com/repos/cmvalma/madrid-oct-2018/issues/comments{/number}\",\"contents_url\":\"https://api.github.com/repos/cmvalma/madrid-oct-2018/contents/{+path}\",\"compare_url\":\"https://api.github.com/repos/cmvalma/madrid-oct-2018/compare/{base}...{head}\",\"merges_url\":\"https://api.github.com/repos/cmvalma/madrid-oct-2018/merges\",\"archive_url\":\"https://api.github.com/repos/cmvalma/madrid-oct-2018/{archive_format}{/ref}\",\"downloads_url\":\"https://api.github.com/repos/cmvalma/madrid-oct-2018/downloads\",\"issues_url\":\"https://api.github.com/repos/cmvalma/madrid-oct-2018/issues{/number}\",\"pulls_url\":\"https://api.github.com/repos/cmvalma/madrid-oct-2018/pulls{/number}\",\"milestones_url\":\"https://api.github.com/repos/cmvalma/madrid-oct-2018/milestones{/number}\",\"notifications_url\":\"https://api.github.com/repos/cmvalma/madrid-oct-2018/notifications{?since,all,participating}\",\"labels_url\":\"https://api.github.com/repos/cmvalma/madrid-oct-2018/labels{/name}\",\"releases_url\":\"https://api.github.com/repos/cmvalma/madrid-oct-2018/releases{/id}\",\"deployments_url\":\"https://api.github.com/repos/cmvalma/madrid-oct-2018/deployments\",\"created_at\":\"2018-10-23T08:27:10Z\",\"updated_at\":\"2019-05-07T20:07:26Z\",\"pushed_at\":\"2019-05-07T20:07:20Z\",\"git_url\":\"git://github.com/cmvalma/madrid-oct-2018.git\",\"ssh_url\":\"git@github.com:cmvalma/madrid-oct-2018.git\",\"clone_url\":\"https://github.com/cmvalma/madrid-oct-2018.git\",\"svn_url\":\"https://github.com/cmvalma/madrid-oct-2018\",\"homepage\":null,\"size\":222202,\"stargazers_count\":0,\"watchers_count\":0,\"language\":\"Jupyter Notebook\",\"has_issues\":false,\"has_projects\":true,\"has_downloads\":true,\"has_wiki\":true,\"has_pages\":false,\"forks_count\":0,\"mirror_url\":null,\"archived\":false,\"disabled\":false,\"open_issues_count\":0,\"license\":{\"key\":\"unlicense\",\"name\":\"The Unlicense\",\"spdx_id\":\"Unlicense\",\"url\":\"https://api.github.com/licenses/unlicense\",\"node_id\":\"MDc6TGljZW5zZTE1\"},\"forks\":0,\"open_issues\":0,\"watchers\":0,\"default_branch\":\"master\"},{\"id\":154191482,\"node_id\":\"MDEwOlJlcG9zaXRvcnkxNTQxOTE0ODI=\",\"name\":\"madrid-oct-2018\",\"full_name\":\"criraca/madrid-oct-2018\",\"private\":false,\"owner\":{\"login\":\"criraca\",\"id\":43931837,\"node_id\":\"MDQ6VXNlcjQzOTMxODM3\",\"avatar_url\":\"https://avatars2.githubusercontent.com/u/43931837?v=4\",\"gravatar_id\":\"\",\"url\":\"https://api.github.com/users/criraca\",\"html_url\":\"https://github.com/criraca\",\"followers_url\":\"https://api.github.com/users/criraca/followers\",\"following_url\":\"https://api.github.com/users/criraca/following{/other_user}\",\"gists_url\":\"https://api.github.com/users/criraca/gists{/gist_id}\",\"starred_url\":\"https://api.github.com/users/criraca/starred{/owner}{/repo}\",\"subscriptions_url\":\"https://api.github.com/users/criraca/subscriptions\",\"organizations_url\":\"https://api.github.com/users/criraca/orgs\",\"repos_url\":\"https://api.github.com/users/criraca/repos\",\"events_url\":\"https://api.github.com/users/criraca/events{/privacy}\",\"received_events_url\":\"https://api.github.com/users/criraca/received_events\",\"type\":\"User\",\"site_admin\":false},\"html_url\":\"https://github.com/criraca/madrid-oct-2018\",\"description\":null,\"fork\":true,\"url\":\"https://api.github.com/repos/criraca/madrid-oct-2018\",\"forks_url\":\"https://api.github.com/repos/criraca/madrid-oct-2018/forks\",\"keys_url\":\"https://api.github.com/repos/criraca/madrid-oct-2018/keys{/key_id}\",\"collaborators_url\":\"https://api.github.com/repos/criraca/madrid-oct-2018/collaborators{/collaborator}\",\"teams_url\":\"https://api.github.com/repos/criraca/madrid-oct-2018/teams\",\"hooks_url\":\"https://api.github.com/repos/criraca/madrid-oct-2018/hooks\",\"issue_events_url\":\"https://api.github.com/repos/criraca/madrid-oct-2018/issues/events{/number}\",\"events_url\":\"https://api.github.com/repos/criraca/madrid-oct-2018/events\",\"assignees_url\":\"https://api.github.com/repos/criraca/madrid-oct-2018/assignees{/user}\",\"branches_url\":\"https://api.github.com/repos/criraca/madrid-oct-2018/branches{/branch}\",\"tags_url\":\"https://api.github.com/repos/criraca/madrid-oct-2018/tags\",\"blobs_url\":\"https://api.github.com/repos/criraca/madrid-oct-2018/git/blobs{/sha}\",\"git_tags_url\":\"https://api.github.com/repos/criraca/madrid-oct-2018/git/tags{/sha}\",\"git_refs_url\":\"https://api.github.com/repos/criraca/madrid-oct-2018/git/refs{/sha}\",\"trees_url\":\"https://api.github.com/repos/criraca/madrid-oct-2018/git/trees{/sha}\",\"statuses_url\":\"https://api.github.com/repos/criraca/madrid-oct-2018/statuses/{sha}\",\"languages_url\":\"https://api.github.com/repos/criraca/madrid-oct-2018/languages\",\"stargazers_url\":\"https://api.github.com/repos/criraca/madrid-oct-2018/stargazers\",\"contributors_url\":\"https://api.github.com/repos/criraca/madrid-oct-2018/contributors\",\"subscribers_url\":\"https://api.github.com/repos/criraca/madrid-oct-2018/subscribers\",\"subscription_url\":\"https://api.github.com/repos/criraca/madrid-oct-2018/subscription\",\"commits_url\":\"https://api.github.com/repos/criraca/madrid-oct-2018/commits{/sha}\",\"git_commits_url\":\"https://api.github.com/repos/criraca/madrid-oct-2018/git/commits{/sha}\",\"comments_url\":\"https://api.github.com/repos/criraca/madrid-oct-2018/comments{/number}\",\"issue_comment_url\":\"https://api.github.com/repos/criraca/madrid-oct-2018/issues/comments{/number}\",\"contents_url\":\"https://api.github.com/repos/criraca/madrid-oct-2018/contents/{+path}\",\"compare_url\":\"https://api.github.com/repos/criraca/madrid-oct-2018/compare/{base}...{head}\",\"merges_url\":\"https://api.github.com/repos/criraca/madrid-oct-2018/merges\",\"archive_url\":\"https://api.github.com/repos/criraca/madrid-oct-2018/{archive_format}{/ref}\",\"downloads_url\":\"https://api.github.com/repos/criraca/madrid-oct-2018/downloads\",\"issues_url\":\"https://api.github.com/repos/criraca/madrid-oct-2018/issues{/number}\",\"pulls_url\":\"https://api.github.com/repos/criraca/madrid-oct-2018/pulls{/number}\",\"milestones_url\":\"https://api.github.com/repos/criraca/madrid-oct-2018/milestones{/number}\",\"notifications_url\":\"https://api.github.com/repos/criraca/madrid-oct-2018/notifications{?since,all,participating}\",\"labels_url\":\"https://api.github.com/repos/criraca/madrid-oct-2018/labels{/name}\",\"releases_url\":\"https://api.github.com/repos/criraca/madrid-oct-2018/releases{/id}\",\"deployments_url\":\"https://api.github.com/repos/criraca/madrid-oct-2018/deployments\",\"created_at\":\"2018-10-22T18:04:20Z\",\"updated_at\":\"2018-12-05T14:18:02Z\",\"pushed_at\":\"2018-12-08T20:38:41Z\",\"git_url\":\"git://github.com/criraca/madrid-oct-2018.git\",\"ssh_url\":\"git@github.com:criraca/madrid-oct-2018.git\",\"clone_url\":\"https://github.com/criraca/madrid-oct-2018.git\",\"svn_url\":\"https://github.com/criraca/madrid-oct-2018\",\"homepage\":null,\"size\":59188,\"stargazers_count\":0,\"watchers_count\":0,\"language\":\"Jupyter Notebook\",\"has_issues\":false,\"has_projects\":true,\"has_downloads\":true,\"has_wiki\":true,\"has_pages\":false,\"forks_count\":0,\"mirror_url\":null,\"archived\":false,\"disabled\":false,\"open_issues_count\":0,\"license\":{\"key\":\"unlicense\",\"name\":\"The Unlicense\",\"spdx_id\":\"Unlicense\",\"url\":\"https://api.github.com/licenses/unlicense\",\"node_id\":\"MDc6TGljZW5zZTE1\"},\"forks\":0,\"open_issues\":0,\"watchers\":0,\"default_branch\":\"master\"},{\"id\":154105473,\"node_id\":\"MDEwOlJlcG9zaXRvcnkxNTQxMDU0NzM=\",\"name\":\"madrid-oct-2018\",\"full_name\":\"AlbertoCastellanos/madrid-oct-2018\",\"private\":false,\"owner\":{\"login\":\"AlbertoCastellanos\",\"id\":43521577,\"node_id\":\"MDQ6VXNlcjQzNTIxNTc3\",\"avatar_url\":\"https://avatars1.githubusercontent.com/u/43521577?v=4\",\"gravatar_id\":\"\",\"url\":\"https://api.github.com/users/AlbertoCastellanos\",\"html_url\":\"https://github.com/AlbertoCastellanos\",\"followers_url\":\"https://api.github.com/users/AlbertoCastellanos/followers\",\"following_url\":\"https://api.github.com/users/AlbertoCastellanos/following{/other_user}\",\"gists_url\":\"https://api.github.com/users/AlbertoCastellanos/gists{/gist_id}\",\"starred_url\":\"https://api.github.com/users/AlbertoCastellanos/starred{/owner}{/repo}\",\"subscriptions_url\":\"https://api.github.com/users/AlbertoCastellanos/subscriptions\",\"organizations_url\":\"https://api.github.com/users/AlbertoCastellanos/orgs\",\"repos_url\":\"https://api.github.com/users/AlbertoCastellanos/repos\",\"events_url\":\"https://api.github.com/users/AlbertoCastellanos/events{/privacy}\",\"received_events_url\":\"https://api.github.com/users/AlbertoCastellanos/received_events\",\"type\":\"User\",\"site_admin\":false},\"html_url\":\"https://github.com/AlbertoCastellanos/madrid-oct-2018\",\"description\":null,\"fork\":true,\"url\":\"https://api.github.com/repos/AlbertoCastellanos/madrid-oct-2018\",\"forks_url\":\"https://api.github.com/repos/AlbertoCastellanos/madrid-oct-2018/forks\",\"keys_url\":\"https://api.github.com/repos/AlbertoCastellanos/madrid-oct-2018/keys{/key_id}\",\"collaborators_url\":\"https://api.github.com/repos/AlbertoCastellanos/madrid-oct-2018/collaborators{/collaborator}\",\"teams_url\":\"https://api.github.com/repos/AlbertoCastellanos/madrid-oct-2018/teams\",\"hooks_url\":\"https://api.github.com/repos/AlbertoCastellanos/madrid-oct-2018/hooks\",\"issue_events_url\":\"https://api.github.com/repos/AlbertoCastellanos/madrid-oct-2018/issues/events{/number}\",\"events_url\":\"https://api.github.com/repos/AlbertoCastellanos/madrid-oct-2018/events\",\"assignees_url\":\"https://api.github.com/repos/AlbertoCastellanos/madrid-oct-2018/assignees{/user}\",\"branches_url\":\"https://api.github.com/repos/AlbertoCastellanos/madrid-oct-2018/branches{/branch}\",\"tags_url\":\"https://api.github.com/repos/AlbertoCastellanos/madrid-oct-2018/tags\",\"blobs_url\":\"https://api.github.com/repos/AlbertoCastellanos/madrid-oct-2018/git/blobs{/sha}\",\"git_tags_url\":\"https://api.github.com/repos/AlbertoCastellanos/madrid-oct-2018/git/tags{/sha}\",\"git_refs_url\":\"https://api.github.com/repos/AlbertoCastellanos/madrid-oct-2018/git/refs{/sha}\",\"trees_url\":\"https://api.github.com/repos/AlbertoCastellanos/madrid-oct-2018/git/trees{/sha}\",\"statuses_url\":\"https://api.github.com/repos/AlbertoCastellanos/madrid-oct-2018/statuses/{sha}\",\"languages_url\":\"https://api.github.com/repos/AlbertoCastellanos/madrid-oct-2018/languages\",\"stargazers_url\":\"https://api.github.com/repos/AlbertoCastellanos/madrid-oct-2018/stargazers\",\"contributors_url\":\"https://api.github.com/repos/AlbertoCastellanos/madrid-oct-2018/contributors\",\"subscribers_url\":\"https://api.github.com/repos/AlbertoCastellanos/madrid-oct-2018/subscribers\",\"subscription_url\":\"https://api.github.com/repos/AlbertoCastellanos/madrid-oct-2018/subscription\",\"commits_url\":\"https://api.github.com/repos/AlbertoCastellanos/madrid-oct-2018/commits{/sha}\",\"git_commits_url\":\"https://api.github.com/repos/AlbertoCastellanos/madrid-oct-2018/git/commits{/sha}\",\"comments_url\":\"https://api.github.com/repos/AlbertoCastellanos/madrid-oct-2018/comments{/number}\",\"issue_comment_url\":\"https://api.github.com/repos/AlbertoCastellanos/madrid-oct-2018/issues/comments{/number}\",\"contents_url\":\"https://api.github.com/repos/AlbertoCastellanos/madrid-oct-2018/contents/{+path}\",\"compare_url\":\"https://api.github.com/repos/AlbertoCastellanos/madrid-oct-2018/compare/{base}...{head}\",\"merges_url\":\"https://api.github.com/repos/AlbertoCastellanos/madrid-oct-2018/merges\",\"archive_url\":\"https://api.github.com/repos/AlbertoCastellanos/madrid-oct-2018/{archive_format}{/ref}\",\"downloads_url\":\"https://api.github.com/repos/AlbertoCastellanos/madrid-oct-2018/downloads\",\"issues_url\":\"https://api.github.com/repos/AlbertoCastellanos/madrid-oct-2018/issues{/number}\",\"pulls_url\":\"https://api.github.com/repos/AlbertoCastellanos/madrid-oct-2018/pulls{/number}\",\"milestones_url\":\"https://api.github.com/repos/AlbertoCastellanos/madrid-oct-2018/milestones{/number}\",\"notifications_url\":\"https://api.github.com/repos/AlbertoCastellanos/madrid-oct-2018/notifications{?since,all,participating}\",\"labels_url\":\"https://api.github.com/repos/AlbertoCastellanos/madrid-oct-2018/labels{/name}\",\"releases_url\":\"https://api.github.com/repos/AlbertoCastellanos/madrid-oct-2018/releases{/id}\",\"deployments_url\":\"https://api.github.com/repos/AlbertoCastellanos/madrid-oct-2018/deployments\",\"created_at\":\"2018-10-22T07:50:41Z\",\"updated_at\":\"2018-12-03T14:18:22Z\",\"pushed_at\":\"2018-12-09T18:51:54Z\",\"git_url\":\"git://github.com/AlbertoCastellanos/madrid-oct-2018.git\",\"ssh_url\":\"git@github.com:AlbertoCastellanos/madrid-oct-2018.git\",\"clone_url\":\"https://github.com/AlbertoCastellanos/madrid-oct-2018.git\",\"svn_url\":\"https://github.com/AlbertoCastellanos/madrid-oct-2018\",\"homepage\":null,\"size\":93337,\"stargazers_count\":0,\"watchers_count\":0,\"language\":\"Jupyter Notebook\",\"has_issues\":false,\"has_projects\":true,\"has_downloads\":true,\"has_wiki\":true,\"has_pages\":false,\"forks_count\":0,\"mirror_url\":null,\"archived\":false,\"disabled\":false,\"open_issues_count\":0,\"license\":null,\"forks\":0,\"open_issues\":0,\"watchers\":0,\"default_branch\":\"master\"},{\"id\":153788059,\"node_id\":\"MDEwOlJlcG9zaXRvcnkxNTM3ODgwNTk=\",\"name\":\"madrid-oct-2018\",\"full_name\":\"elenajpp/madrid-oct-2018\",\"private\":false,\"owner\":{\"login\":\"elenajpp\",\"id\":44167409,\"node_id\":\"MDQ6VXNlcjQ0MTY3NDA5\",\"avatar_url\":\"https://avatars2.githubusercontent.com/u/44167409?v=4\",\"gravatar_id\":\"\",\"url\":\"https://api.github.com/users/elenajpp\",\"html_url\":\"https://github.com/elenajpp\",\"followers_url\":\"https://api.github.com/users/elenajpp/followers\",\"following_url\":\"https://api.github.com/users/elenajpp/following{/other_user}\",\"gists_url\":\"https://api.github.com/users/elenajpp/gists{/gist_id}\",\"starred_url\":\"https://api.github.com/users/elenajpp/starred{/owner}{/repo}\",\"subscriptions_url\":\"https://api.github.com/users/elenajpp/subscriptions\",\"organizations_url\":\"https://api.github.com/users/elenajpp/orgs\",\"repos_url\":\"https://api.github.com/users/elenajpp/repos\",\"events_url\":\"https://api.github.com/users/elenajpp/events{/privacy}\",\"received_events_url\":\"https://api.github.com/users/elenajpp/received_events\",\"type\":\"User\",\"site_admin\":false},\"html_url\":\"https://github.com/elenajpp/madrid-oct-2018\",\"description\":null,\"fork\":true,\"url\":\"https://api.github.com/repos/elenajpp/madrid-oct-2018\",\"forks_url\":\"https://api.github.com/repos/elenajpp/madrid-oct-2018/forks\",\"keys_url\":\"https://api.github.com/repos/elenajpp/madrid-oct-2018/keys{/key_id}\",\"collaborators_url\":\"https://api.github.com/repos/elenajpp/madrid-oct-2018/collaborators{/collaborator}\",\"teams_url\":\"https://api.github.com/repos/elenajpp/madrid-oct-2018/teams\",\"hooks_url\":\"https://api.github.com/repos/elenajpp/madrid-oct-2018/hooks\",\"issue_events_url\":\"https://api.github.com/repos/elenajpp/madrid-oct-2018/issues/events{/number}\",\"events_url\":\"https://api.github.com/repos/elenajpp/madrid-oct-2018/events\",\"assignees_url\":\"https://api.github.com/repos/elenajpp/madrid-oct-2018/assignees{/user}\",\"branches_url\":\"https://api.github.com/repos/elenajpp/madrid-oct-2018/branches{/branch}\",\"tags_url\":\"https://api.github.com/repos/elenajpp/madrid-oct-2018/tags\",\"blobs_url\":\"https://api.github.com/repos/elenajpp/madrid-oct-2018/git/blobs{/sha}\",\"git_tags_url\":\"https://api.github.com/repos/elenajpp/madrid-oct-2018/git/tags{/sha}\",\"git_refs_url\":\"https://api.github.com/repos/elenajpp/madrid-oct-2018/git/refs{/sha}\",\"trees_url\":\"https://api.github.com/repos/elenajpp/madrid-oct-2018/git/trees{/sha}\",\"statuses_url\":\"https://api.github.com/repos/elenajpp/madrid-oct-2018/statuses/{sha}\",\"languages_url\":\"https://api.github.com/repos/elenajpp/madrid-oct-2018/languages\",\"stargazers_url\":\"https://api.github.com/repos/elenajpp/madrid-oct-2018/stargazers\",\"contributors_url\":\"https://api.github.com/repos/elenajpp/madrid-oct-2018/contributors\",\"subscribers_url\":\"https://api.github.com/repos/elenajpp/madrid-oct-2018/subscribers\",\"subscription_url\":\"https://api.github.com/repos/elenajpp/madrid-oct-2018/subscription\",\"commits_url\":\"https://api.github.com/repos/elenajpp/madrid-oct-2018/commits{/sha}\",\"git_commits_url\":\"https://api.github.com/repos/elenajpp/madrid-oct-2018/git/commits{/sha}\",\"comments_url\":\"https://api.github.com/repos/elenajpp/madrid-oct-2018/comments{/number}\",\"issue_comment_url\":\"https://api.github.com/repos/elenajpp/madrid-oct-2018/issues/comments{/number}\",\"contents_url\":\"https://api.github.com/repos/elenajpp/madrid-oct-2018/contents/{+path}\",\"compare_url\":\"https://api.github.com/repos/elenajpp/madrid-oct-2018/compare/{base}...{head}\",\"merges_url\":\"https://api.github.com/repos/elenajpp/madrid-oct-2018/merges\",\"archive_url\":\"https://api.github.com/repos/elenajpp/madrid-oct-2018/{archive_format}{/ref}\",\"downloads_url\":\"https://api.github.com/repos/elenajpp/madrid-oct-2018/downloads\",\"issues_url\":\"https://api.github.com/repos/elenajpp/madrid-oct-2018/issues{/number}\",\"pulls_url\":\"https://api.github.com/repos/elenajpp/madrid-oct-2018/pulls{/number}\",\"milestones_url\":\"https://api.github.com/repos/elenajpp/madrid-oct-2018/milestones{/number}\",\"notifications_url\":\"https://api.github.com/repos/elenajpp/madrid-oct-2018/notifications{?since,all,participating}\",\"labels_url\":\"https://api.github.com/repos/elenajpp/madrid-oct-2018/labels{/name}\",\"releases_url\":\"https://api.github.com/repos/elenajpp/madrid-oct-2018/releases{/id}\",\"deployments_url\":\"https://api.github.com/repos/elenajpp/madrid-oct-2018/deployments\",\"created_at\":\"2018-10-19T13:35:55Z\",\"updated_at\":\"2018-12-05T15:59:58Z\",\"pushed_at\":\"2018-12-10T15:52:37Z\",\"git_url\":\"git://github.com/elenajpp/madrid-oct-2018.git\",\"ssh_url\":\"git@github.com:elenajpp/madrid-oct-2018.git\",\"clone_url\":\"https://github.com/elenajpp/madrid-oct-2018.git\",\"svn_url\":\"https://github.com/elenajpp/madrid-oct-2018\",\"homepage\":null,\"size\":172434,\"stargazers_count\":0,\"watchers_count\":0,\"language\":\"Jupyter Notebook\",\"has_issues\":false,\"has_projects\":true,\"has_downloads\":true,\"has_wiki\":true,\"has_pages\":false,\"forks_count\":0,\"mirror_url\":null,\"archived\":false,\"disabled\":false,\"open_issues_count\":0,\"license\":{\"key\":\"unlicense\",\"name\":\"The Unlicense\",\"spdx_id\":\"Unlicense\",\"url\":\"https://api.github.com/licenses/unlicense\",\"node_id\":\"MDc6TGljZW5zZTE1\"},\"forks\":0,\"open_issues\":0,\"watchers\":0,\"default_branch\":\"master\"},{\"id\":153787890,\"node_id\":\"MDEwOlJlcG9zaXRvcnkxNTM3ODc4OTA=\",\"name\":\"madrid-oct-2018\",\"full_name\":\"pablobarrio/madrid-oct-2018\",\"private\":false,\"owner\":{\"login\":\"pablobarrio\",\"id\":44111839,\"node_id\":\"MDQ6VXNlcjQ0MTExODM5\",\"avatar_url\":\"https://avatars2.githubusercontent.com/u/44111839?v=4\",\"gravatar_id\":\"\",\"url\":\"https://api.github.com/users/pablobarrio\",\"html_url\":\"https://github.com/pablobarrio\",\"followers_url\":\"https://api.github.com/users/pablobarrio/followers\",\"following_url\":\"https://api.github.com/users/pablobarrio/following{/other_user}\",\"gists_url\":\"https://api.github.com/users/pablobarrio/gists{/gist_id}\",\"starred_url\":\"https://api.github.com/users/pablobarrio/starred{/owner}{/repo}\",\"subscriptions_url\":\"https://api.github.com/users/pablobarrio/subscriptions\",\"organizations_url\":\"https://api.github.com/users/pablobarrio/orgs\",\"repos_url\":\"https://api.github.com/users/pablobarrio/repos\",\"events_url\":\"https://api.github.com/users/pablobarrio/events{/privacy}\",\"received_events_url\":\"https://api.github.com/users/pablobarrio/received_events\",\"type\":\"User\",\"site_admin\":false},\"html_url\":\"https://github.com/pablobarrio/madrid-oct-2018\",\"description\":null,\"fork\":true,\"url\":\"https://api.github.com/repos/pablobarrio/madrid-oct-2018\",\"forks_url\":\"https://api.github.com/repos/pablobarrio/madrid-oct-2018/forks\",\"keys_url\":\"https://api.github.com/repos/pablobarrio/madrid-oct-2018/keys{/key_id}\",\"collaborators_url\":\"https://api.github.com/repos/pablobarrio/madrid-oct-2018/collaborators{/collaborator}\",\"teams_url\":\"https://api.github.com/repos/pablobarrio/madrid-oct-2018/teams\",\"hooks_url\":\"https://api.github.com/repos/pablobarrio/madrid-oct-2018/hooks\",\"issue_events_url\":\"https://api.github.com/repos/pablobarrio/madrid-oct-2018/issues/events{/number}\",\"events_url\":\"https://api.github.com/repos/pablobarrio/madrid-oct-2018/events\",\"assignees_url\":\"https://api.github.com/repos/pablobarrio/madrid-oct-2018/assignees{/user}\",\"branches_url\":\"https://api.github.com/repos/pablobarrio/madrid-oct-2018/branches{/branch}\",\"tags_url\":\"https://api.github.com/repos/pablobarrio/madrid-oct-2018/tags\",\"blobs_url\":\"https://api.github.com/repos/pablobarrio/madrid-oct-2018/git/blobs{/sha}\",\"git_tags_url\":\"https://api.github.com/repos/pablobarrio/madrid-oct-2018/git/tags{/sha}\",\"git_refs_url\":\"https://api.github.com/repos/pablobarrio/madrid-oct-2018/git/refs{/sha}\",\"trees_url\":\"https://api.github.com/repos/pablobarrio/madrid-oct-2018/git/trees{/sha}\",\"statuses_url\":\"https://api.github.com/repos/pablobarrio/madrid-oct-2018/statuses/{sha}\",\"languages_url\":\"https://api.github.com/repos/pablobarrio/madrid-oct-2018/languages\",\"stargazers_url\":\"https://api.github.com/repos/pablobarrio/madrid-oct-2018/stargazers\",\"contributors_url\":\"https://api.github.com/repos/pablobarrio/madrid-oct-2018/contributors\",\"subscribers_url\":\"https://api.github.com/repos/pablobarrio/madrid-oct-2018/subscribers\",\"subscription_url\":\"https://api.github.com/repos/pablobarrio/madrid-oct-2018/subscription\",\"commits_url\":\"https://api.github.com/repos/pablobarrio/madrid-oct-2018/commits{/sha}\",\"git_commits_url\":\"https://api.github.com/repos/pablobarrio/madrid-oct-2018/git/commits{/sha}\",\"comments_url\":\"https://api.github.com/repos/pablobarrio/madrid-oct-2018/comments{/number}\",\"issue_comment_url\":\"https://api.github.com/repos/pablobarrio/madrid-oct-2018/issues/comments{/number}\",\"contents_url\":\"https://api.github.com/repos/pablobarrio/madrid-oct-2018/contents/{+path}\",\"compare_url\":\"https://api.github.com/repos/pablobarrio/madrid-oct-2018/compare/{base}...{head}\",\"merges_url\":\"https://api.github.com/repos/pablobarrio/madrid-oct-2018/merges\",\"archive_url\":\"https://api.github.com/repos/pablobarrio/madrid-oct-2018/{archive_format}{/ref}\",\"downloads_url\":\"https://api.github.com/repos/pablobarrio/madrid-oct-2018/downloads\",\"issues_url\":\"https://api.github.com/repos/pablobarrio/madrid-oct-2018/issues{/number}\",\"pulls_url\":\"https://api.github.com/repos/pablobarrio/madrid-oct-2018/pulls{/number}\",\"milestones_url\":\"https://api.github.com/repos/pablobarrio/madrid-oct-2018/milestones{/number}\",\"notifications_url\":\"https://api.github.com/repos/pablobarrio/madrid-oct-2018/notifications{?since,all,participating}\",\"labels_url\":\"https://api.github.com/repos/pablobarrio/madrid-oct-2018/labels{/name}\",\"releases_url\":\"https://api.github.com/repos/pablobarrio/madrid-oct-2018/releases{/id}\",\"deployments_url\":\"https://api.github.com/repos/pablobarrio/madrid-oct-2018/deployments\",\"created_at\":\"2018-10-19T13:34:59Z\",\"updated_at\":\"2018-10-23T15:37:48Z\",\"pushed_at\":\"2018-11-26T08:05:58Z\",\"git_url\":\"git://github.com/pablobarrio/madrid-oct-2018.git\",\"ssh_url\":\"git@github.com:pablobarrio/madrid-oct-2018.git\",\"clone_url\":\"https://github.com/pablobarrio/madrid-oct-2018.git\",\"svn_url\":\"https://github.com/pablobarrio/madrid-oct-2018\",\"homepage\":null,\"size\":78142,\"stargazers_count\":0,\"watchers_count\":0,\"language\":\"Jupyter Notebook\",\"has_issues\":false,\"has_projects\":true,\"has_downloads\":true,\"has_wiki\":true,\"has_pages\":false,\"forks_count\":0,\"mirror_url\":null,\"archived\":false,\"disabled\":false,\"open_issues_count\":0,\"license\":{\"key\":\"unlicense\",\"name\":\"The Unlicense\",\"spdx_id\":\"Unlicense\",\"url\":\"https://api.github.com/licenses/unlicense\",\"node_id\":\"MDc6TGljZW5zZTE1\"},\"forks\":0,\"open_issues\":0,\"watchers\":0,\"default_branch\":\"master\"},{\"id\":153787814,\"node_id\":\"MDEwOlJlcG9zaXRvcnkxNTM3ODc4MTQ=\",\"name\":\"madrid-oct-2018\",\"full_name\":\"miriammg/madrid-oct-2018\",\"private\":false,\"owner\":{\"login\":\"miriammg\",\"id\":43962086,\"node_id\":\"MDQ6VXNlcjQzOTYyMDg2\",\"avatar_url\":\"https://avatars2.githubusercontent.com/u/43962086?v=4\",\"gravatar_id\":\"\",\"url\":\"https://api.github.com/users/miriammg\",\"html_url\":\"https://github.com/miriammg\",\"followers_url\":\"https://api.github.com/users/miriammg/followers\",\"following_url\":\"https://api.github.com/users/miriammg/following{/other_user}\",\"gists_url\":\"https://api.github.com/users/miriammg/gists{/gist_id}\",\"starred_url\":\"https://api.github.com/users/miriammg/starred{/owner}{/repo}\",\"subscriptions_url\":\"https://api.github.com/users/miriammg/subscriptions\",\"organizations_url\":\"https://api.github.com/users/miriammg/orgs\",\"repos_url\":\"https://api.github.com/users/miriammg/repos\",\"events_url\":\"https://api.github.com/users/miriammg/events{/privacy}\",\"received_events_url\":\"https://api.github.com/users/miriammg/received_events\",\"type\":\"User\",\"site_admin\":false},\"html_url\":\"https://github.com/miriammg/madrid-oct-2018\",\"description\":null,\"fork\":true,\"url\":\"https://api.github.com/repos/miriammg/madrid-oct-2018\",\"forks_url\":\"https://api.github.com/repos/miriammg/madrid-oct-2018/forks\",\"keys_url\":\"https://api.github.com/repos/miriammg/madrid-oct-2018/keys{/key_id}\",\"collaborators_url\":\"https://api.github.com/repos/miriammg/madrid-oct-2018/collaborators{/collaborator}\",\"teams_url\":\"https://api.github.com/repos/miriammg/madrid-oct-2018/teams\",\"hooks_url\":\"https://api.github.com/repos/miriammg/madrid-oct-2018/hooks\",\"issue_events_url\":\"https://api.github.com/repos/miriammg/madrid-oct-2018/issues/events{/number}\",\"events_url\":\"https://api.github.com/repos/miriammg/madrid-oct-2018/events\",\"assignees_url\":\"https://api.github.com/repos/miriammg/madrid-oct-2018/assignees{/user}\",\"branches_url\":\"https://api.github.com/repos/miriammg/madrid-oct-2018/branches{/branch}\",\"tags_url\":\"https://api.github.com/repos/miriammg/madrid-oct-2018/tags\",\"blobs_url\":\"https://api.github.com/repos/miriammg/madrid-oct-2018/git/blobs{/sha}\",\"git_tags_url\":\"https://api.github.com/repos/miriammg/madrid-oct-2018/git/tags{/sha}\",\"git_refs_url\":\"https://api.github.com/repos/miriammg/madrid-oct-2018/git/refs{/sha}\",\"trees_url\":\"https://api.github.com/repos/miriammg/madrid-oct-2018/git/trees{/sha}\",\"statuses_url\":\"https://api.github.com/repos/miriammg/madrid-oct-2018/statuses/{sha}\",\"languages_url\":\"https://api.github.com/repos/miriammg/madrid-oct-2018/languages\",\"stargazers_url\":\"https://api.github.com/repos/miriammg/madrid-oct-2018/stargazers\",\"contributors_url\":\"https://api.github.com/repos/miriammg/madrid-oct-2018/contributors\",\"subscribers_url\":\"https://api.github.com/repos/miriammg/madrid-oct-2018/subscribers\",\"subscription_url\":\"https://api.github.com/repos/miriammg/madrid-oct-2018/subscription\",\"commits_url\":\"https://api.github.com/repos/miriammg/madrid-oct-2018/commits{/sha}\",\"git_commits_url\":\"https://api.github.com/repos/miriammg/madrid-oct-2018/git/commits{/sha}\",\"comments_url\":\"https://api.github.com/repos/miriammg/madrid-oct-2018/comments{/number}\",\"issue_comment_url\":\"https://api.github.com/repos/miriammg/madrid-oct-2018/issues/comments{/number}\",\"contents_url\":\"https://api.github.com/repos/miriammg/madrid-oct-2018/contents/{+path}\",\"compare_url\":\"https://api.github.com/repos/miriammg/madrid-oct-2018/compare/{base}...{head}\",\"merges_url\":\"https://api.github.com/repos/miriammg/madrid-oct-2018/merges\",\"archive_url\":\"https://api.github.com/repos/miriammg/madrid-oct-2018/{archive_format}{/ref}\",\"downloads_url\":\"https://api.github.com/repos/miriammg/madrid-oct-2018/downloads\",\"issues_url\":\"https://api.github.com/repos/miriammg/madrid-oct-2018/issues{/number}\",\"pulls_url\":\"https://api.github.com/repos/miriammg/madrid-oct-2018/pulls{/number}\",\"milestones_url\":\"https://api.github.com/repos/miriammg/madrid-oct-2018/milestones{/number}\",\"notifications_url\":\"https://api.github.com/repos/miriammg/madrid-oct-2018/notifications{?since,all,participating}\",\"labels_url\":\"https://api.github.com/repos/miriammg/madrid-oct-2018/labels{/name}\",\"releases_url\":\"https://api.github.com/repos/miriammg/madrid-oct-2018/releases{/id}\",\"deployments_url\":\"https://api.github.com/repos/miriammg/madrid-oct-2018/deployments\",\"created_at\":\"2018-10-19T13:34:25Z\",\"updated_at\":\"2018-12-07T09:57:15Z\",\"pushed_at\":\"2018-12-09T10:29:50Z\",\"git_url\":\"git://github.com/miriammg/madrid-oct-2018.git\",\"ssh_url\":\"git@github.com:miriammg/madrid-oct-2018.git\",\"clone_url\":\"https://github.com/miriammg/madrid-oct-2018.git\",\"svn_url\":\"https://github.com/miriammg/madrid-oct-2018\",\"homepage\":null,\"size\":77320,\"stargazers_count\":0,\"watchers_count\":0,\"language\":\"Jupyter Notebook\",\"has_issues\":false,\"has_projects\":true,\"has_downloads\":true,\"has_wiki\":true,\"has_pages\":false,\"forks_count\":0,\"mirror_url\":null,\"archived\":false,\"disabled\":false,\"open_issues_count\":0,\"license\":{\"key\":\"unlicense\",\"name\":\"The Unlicense\",\"spdx_id\":\"Unlicense\",\"url\":\"https://api.github.com/licenses/unlicense\",\"node_id\":\"MDc6TGljZW5zZTE1\"},\"forks\":0,\"open_issues\":0,\"watchers\":0,\"default_branch\":\"master\"},{\"id\":153787806,\"node_id\":\"MDEwOlJlcG9zaXRvcnkxNTM3ODc4MDY=\",\"name\":\"madrid-oct-2018\",\"full_name\":\"albertogcmr/madrid-oct-2018\",\"private\":false,\"owner\":{\"login\":\"albertogcmr\",\"id\":35075785,\"node_id\":\"MDQ6VXNlcjM1MDc1Nzg1\",\"avatar_url\":\"https://avatars0.githubusercontent.com/u/35075785?v=4\",\"gravatar_id\":\"\",\"url\":\"https://api.github.com/users/albertogcmr\",\"html_url\":\"https://github.com/albertogcmr\",\"followers_url\":\"https://api.github.com/users/albertogcmr/followers\",\"following_url\":\"https://api.github.com/users/albertogcmr/following{/other_user}\",\"gists_url\":\"https://api.github.com/users/albertogcmr/gists{/gist_id}\",\"starred_url\":\"https://api.github.com/users/albertogcmr/starred{/owner}{/repo}\",\"subscriptions_url\":\"https://api.github.com/users/albertogcmr/subscriptions\",\"organizations_url\":\"https://api.github.com/users/albertogcmr/orgs\",\"repos_url\":\"https://api.github.com/users/albertogcmr/repos\",\"events_url\":\"https://api.github.com/users/albertogcmr/events{/privacy}\",\"received_events_url\":\"https://api.github.com/users/albertogcmr/received_events\",\"type\":\"User\",\"site_admin\":false},\"html_url\":\"https://github.com/albertogcmr/madrid-oct-2018\",\"description\":null,\"fork\":true,\"url\":\"https://api.github.com/repos/albertogcmr/madrid-oct-2018\",\"forks_url\":\"https://api.github.com/repos/albertogcmr/madrid-oct-2018/forks\",\"keys_url\":\"https://api.github.com/repos/albertogcmr/madrid-oct-2018/keys{/key_id}\",\"collaborators_url\":\"https://api.github.com/repos/albertogcmr/madrid-oct-2018/collaborators{/collaborator}\",\"teams_url\":\"https://api.github.com/repos/albertogcmr/madrid-oct-2018/teams\",\"hooks_url\":\"https://api.github.com/repos/albertogcmr/madrid-oct-2018/hooks\",\"issue_events_url\":\"https://api.github.com/repos/albertogcmr/madrid-oct-2018/issues/events{/number}\",\"events_url\":\"https://api.github.com/repos/albertogcmr/madrid-oct-2018/events\",\"assignees_url\":\"https://api.github.com/repos/albertogcmr/madrid-oct-2018/assignees{/user}\",\"branches_url\":\"https://api.github.com/repos/albertogcmr/madrid-oct-2018/branches{/branch}\",\"tags_url\":\"https://api.github.com/repos/albertogcmr/madrid-oct-2018/tags\",\"blobs_url\":\"https://api.github.com/repos/albertogcmr/madrid-oct-2018/git/blobs{/sha}\",\"git_tags_url\":\"https://api.github.com/repos/albertogcmr/madrid-oct-2018/git/tags{/sha}\",\"git_refs_url\":\"https://api.github.com/repos/albertogcmr/madrid-oct-2018/git/refs{/sha}\",\"trees_url\":\"https://api.github.com/repos/albertogcmr/madrid-oct-2018/git/trees{/sha}\",\"statuses_url\":\"https://api.github.com/repos/albertogcmr/madrid-oct-2018/statuses/{sha}\",\"languages_url\":\"https://api.github.com/repos/albertogcmr/madrid-oct-2018/languages\",\"stargazers_url\":\"https://api.github.com/repos/albertogcmr/madrid-oct-2018/stargazers\",\"contributors_url\":\"https://api.github.com/repos/albertogcmr/madrid-oct-2018/contributors\",\"subscribers_url\":\"https://api.github.com/repos/albertogcmr/madrid-oct-2018/subscribers\",\"subscription_url\":\"https://api.github.com/repos/albertogcmr/madrid-oct-2018/subscription\",\"commits_url\":\"https://api.github.com/repos/albertogcmr/madrid-oct-2018/commits{/sha}\",\"git_commits_url\":\"https://api.github.com/repos/albertogcmr/madrid-oct-2018/git/commits{/sha}\",\"comments_url\":\"https://api.github.com/repos/albertogcmr/madrid-oct-2018/comments{/number}\",\"issue_comment_url\":\"https://api.github.com/repos/albertogcmr/madrid-oct-2018/issues/comments{/number}\",\"contents_url\":\"https://api.github.com/repos/albertogcmr/madrid-oct-2018/contents/{+path}\",\"compare_url\":\"https://api.github.com/repos/albertogcmr/madrid-oct-2018/compare/{base}...{head}\",\"merges_url\":\"https://api.github.com/repos/albertogcmr/madrid-oct-2018/merges\",\"archive_url\":\"https://api.github.com/repos/albertogcmr/madrid-oct-2018/{archive_format}{/ref}\",\"downloads_url\":\"https://api.github.com/repos/albertogcmr/madrid-oct-2018/downloads\",\"issues_url\":\"https://api.github.com/repos/albertogcmr/madrid-oct-2018/issues{/number}\",\"pulls_url\":\"https://api.github.com/repos/albertogcmr/madrid-oct-2018/pulls{/number}\",\"milestones_url\":\"https://api.github.com/repos/albertogcmr/madrid-oct-2018/milestones{/number}\",\"notifications_url\":\"https://api.github.com/repos/albertogcmr/madrid-oct-2018/notifications{?since,all,participating}\",\"labels_url\":\"https://api.github.com/repos/albertogcmr/madrid-oct-2018/labels{/name}\",\"releases_url\":\"https://api.github.com/repos/albertogcmr/madrid-oct-2018/releases{/id}\",\"deployments_url\":\"https://api.github.com/repos/albertogcmr/madrid-oct-2018/deployments\",\"created_at\":\"2018-10-19T13:34:21Z\",\"updated_at\":\"2019-01-18T09:34:32Z\",\"pushed_at\":\"2019-08-20T14:07:28Z\",\"git_url\":\"git://github.com/albertogcmr/madrid-oct-2018.git\",\"ssh_url\":\"git@github.com:albertogcmr/madrid-oct-2018.git\",\"clone_url\":\"https://github.com/albertogcmr/madrid-oct-2018.git\",\"svn_url\":\"https://github.com/albertogcmr/madrid-oct-2018\",\"homepage\":null,\"size\":171492,\"stargazers_count\":0,\"watchers_count\":0,\"language\":\"Jupyter Notebook\",\"has_issues\":false,\"has_projects\":true,\"has_downloads\":true,\"has_wiki\":true,\"has_pages\":false,\"forks_count\":0,\"mirror_url\":null,\"archived\":false,\"disabled\":false,\"open_issues_count\":0,\"license\":{\"key\":\"unlicense\",\"name\":\"The Unlicense\",\"spdx_id\":\"Unlicense\",\"url\":\"https://api.github.com/licenses/unlicense\",\"node_id\":\"MDc6TGljZW5zZTE1\"},\"forks\":0,\"open_issues\":0,\"watchers\":0,\"default_branch\":\"master\"},{\"id\":153787788,\"node_id\":\"MDEwOlJlcG9zaXRvcnkxNTM3ODc3ODg=\",\"name\":\"madrid-oct-2018\",\"full_name\":\"marisfont/madrid-oct-2018\",\"private\":false,\"owner\":{\"login\":\"marisfont\",\"id\":43796849,\"node_id\":\"MDQ6VXNlcjQzNzk2ODQ5\",\"avatar_url\":\"https://avatars3.githubusercontent.com/u/43796849?v=4\",\"gravatar_id\":\"\",\"url\":\"https://api.github.com/users/marisfont\",\"html_url\":\"https://github.com/marisfont\",\"followers_url\":\"https://api.github.com/users/marisfont/followers\",\"following_url\":\"https://api.github.com/users/marisfont/following{/other_user}\",\"gists_url\":\"https://api.github.com/users/marisfont/gists{/gist_id}\",\"starred_url\":\"https://api.github.com/users/marisfont/starred{/owner}{/repo}\",\"subscriptions_url\":\"https://api.github.com/users/marisfont/subscriptions\",\"organizations_url\":\"https://api.github.com/users/marisfont/orgs\",\"repos_url\":\"https://api.github.com/users/marisfont/repos\",\"events_url\":\"https://api.github.com/users/marisfont/events{/privacy}\",\"received_events_url\":\"https://api.github.com/users/marisfont/received_events\",\"type\":\"User\",\"site_admin\":false},\"html_url\":\"https://github.com/marisfont/madrid-oct-2018\",\"description\":null,\"fork\":true,\"url\":\"https://api.github.com/repos/marisfont/madrid-oct-2018\",\"forks_url\":\"https://api.github.com/repos/marisfont/madrid-oct-2018/forks\",\"keys_url\":\"https://api.github.com/repos/marisfont/madrid-oct-2018/keys{/key_id}\",\"collaborators_url\":\"https://api.github.com/repos/marisfont/madrid-oct-2018/collaborators{/collaborator}\",\"teams_url\":\"https://api.github.com/repos/marisfont/madrid-oct-2018/teams\",\"hooks_url\":\"https://api.github.com/repos/marisfont/madrid-oct-2018/hooks\",\"issue_events_url\":\"https://api.github.com/repos/marisfont/madrid-oct-2018/issues/events{/number}\",\"events_url\":\"https://api.github.com/repos/marisfont/madrid-oct-2018/events\",\"assignees_url\":\"https://api.github.com/repos/marisfont/madrid-oct-2018/assignees{/user}\",\"branches_url\":\"https://api.github.com/repos/marisfont/madrid-oct-2018/branches{/branch}\",\"tags_url\":\"https://api.github.com/repos/marisfont/madrid-oct-2018/tags\",\"blobs_url\":\"https://api.github.com/repos/marisfont/madrid-oct-2018/git/blobs{/sha}\",\"git_tags_url\":\"https://api.github.com/repos/marisfont/madrid-oct-2018/git/tags{/sha}\",\"git_refs_url\":\"https://api.github.com/repos/marisfont/madrid-oct-2018/git/refs{/sha}\",\"trees_url\":\"https://api.github.com/repos/marisfont/madrid-oct-2018/git/trees{/sha}\",\"statuses_url\":\"https://api.github.com/repos/marisfont/madrid-oct-2018/statuses/{sha}\",\"languages_url\":\"https://api.github.com/repos/marisfont/madrid-oct-2018/languages\",\"stargazers_url\":\"https://api.github.com/repos/marisfont/madrid-oct-2018/stargazers\",\"contributors_url\":\"https://api.github.com/repos/marisfont/madrid-oct-2018/contributors\",\"subscribers_url\":\"https://api.github.com/repos/marisfont/madrid-oct-2018/subscribers\",\"subscription_url\":\"https://api.github.com/repos/marisfont/madrid-oct-2018/subscription\",\"commits_url\":\"https://api.github.com/repos/marisfont/madrid-oct-2018/commits{/sha}\",\"git_commits_url\":\"https://api.github.com/repos/marisfont/madrid-oct-2018/git/commits{/sha}\",\"comments_url\":\"https://api.github.com/repos/marisfont/madrid-oct-2018/comments{/number}\",\"issue_comment_url\":\"https://api.github.com/repos/marisfont/madrid-oct-2018/issues/comments{/number}\",\"contents_url\":\"https://api.github.com/repos/marisfont/madrid-oct-2018/contents/{+path}\",\"compare_url\":\"https://api.github.com/repos/marisfont/madrid-oct-2018/compare/{base}...{head}\",\"merges_url\":\"https://api.github.com/repos/marisfont/madrid-oct-2018/merges\",\"archive_url\":\"https://api.github.com/repos/marisfont/madrid-oct-2018/{archive_format}{/ref}\",\"downloads_url\":\"https://api.github.com/repos/marisfont/madrid-oct-2018/downloads\",\"issues_url\":\"https://api.github.com/repos/marisfont/madrid-oct-2018/issues{/number}\",\"pulls_url\":\"https://api.github.com/repos/marisfont/madrid-oct-2018/pulls{/number}\",\"milestones_url\":\"https://api.github.com/repos/marisfont/madrid-oct-2018/milestones{/number}\",\"notifications_url\":\"https://api.github.com/repos/marisfont/madrid-oct-2018/notifications{?since,all,participating}\",\"labels_url\":\"https://api.github.com/repos/marisfont/madrid-oct-2018/labels{/name}\",\"releases_url\":\"https://api.github.com/repos/marisfont/madrid-oct-2018/releases{/id}\",\"deployments_url\":\"https://api.github.com/repos/marisfont/madrid-oct-2018/deployments\",\"created_at\":\"2018-10-19T13:34:11Z\",\"updated_at\":\"2018-12-04T17:31:47Z\",\"pushed_at\":\"2018-12-05T16:03:33Z\",\"git_url\":\"git://github.com/marisfont/madrid-oct-2018.git\",\"ssh_url\":\"git@github.com:marisfont/madrid-oct-2018.git\",\"clone_url\":\"https://github.com/marisfont/madrid-oct-2018.git\",\"svn_url\":\"https://github.com/marisfont/madrid-oct-2018\",\"homepage\":null,\"size\":93980,\"stargazers_count\":0,\"watchers_count\":0,\"language\":\"Jupyter Notebook\",\"has_issues\":false,\"has_projects\":true,\"has_downloads\":true,\"has_wiki\":true,\"has_pages\":false,\"forks_count\":0,\"mirror_url\":null,\"archived\":false,\"disabled\":false,\"open_issues_count\":0,\"license\":{\"key\":\"unlicense\",\"name\":\"The Unlicense\",\"spdx_id\":\"Unlicense\",\"url\":\"https://api.github.com/licenses/unlicense\",\"node_id\":\"MDc6TGljZW5zZTE1\"},\"forks\":0,\"open_issues\":0,\"watchers\":0,\"default_branch\":\"master\"}]'"
      ]
     },
     "execution_count": 132,
     "metadata": {},
     "output_type": "execute_result"
    }
   ],
   "source": [
    "#comprobamos texto - aseguramos que devuelve json\n",
    "request.text"
   ]
  },
  {
   "cell_type": "code",
   "execution_count": 135,
   "metadata": {},
   "outputs": [],
   "source": [
    "fp=urllib.request.urlopen(url)\n",
    "mybytes=fp.read()\n",
    "response=mybytes.decode(\"utf8\")\n",
    "fp.close()"
   ]
  },
  {
   "cell_type": "code",
   "execution_count": 136,
   "metadata": {},
   "outputs": [],
   "source": [
    "results=json.loads(response)"
   ]
  },
  {
   "cell_type": "code",
   "execution_count": 137,
   "metadata": {},
   "outputs": [],
   "source": [
    "flattened_data=pd.json_normalize(results)"
   ]
  },
  {
   "cell_type": "code",
   "execution_count": 140,
   "metadata": {},
   "outputs": [
    {
     "data": {
      "text/html": [
       "<div>\n",
       "<style scoped>\n",
       "    .dataframe tbody tr th:only-of-type {\n",
       "        vertical-align: middle;\n",
       "    }\n",
       "\n",
       "    .dataframe tbody tr th {\n",
       "        vertical-align: top;\n",
       "    }\n",
       "\n",
       "    .dataframe thead th {\n",
       "        text-align: right;\n",
       "    }\n",
       "</style>\n",
       "<table border=\"1\" class=\"dataframe\">\n",
       "  <thead>\n",
       "    <tr style=\"text-align: right;\">\n",
       "      <th></th>\n",
       "      <th>id</th>\n",
       "      <th>node_id</th>\n",
       "      <th>name</th>\n",
       "      <th>full_name</th>\n",
       "      <th>private</th>\n",
       "      <th>html_url</th>\n",
       "      <th>description</th>\n",
       "      <th>fork</th>\n",
       "      <th>url</th>\n",
       "      <th>forks_url</th>\n",
       "      <th>...</th>\n",
       "      <th>owner.events_url</th>\n",
       "      <th>owner.received_events_url</th>\n",
       "      <th>owner.type</th>\n",
       "      <th>owner.site_admin</th>\n",
       "      <th>license.key</th>\n",
       "      <th>license.name</th>\n",
       "      <th>license.spdx_id</th>\n",
       "      <th>license.url</th>\n",
       "      <th>license.node_id</th>\n",
       "      <th>license</th>\n",
       "    </tr>\n",
       "  </thead>\n",
       "  <tbody>\n",
       "    <tr>\n",
       "      <th>0</th>\n",
       "      <td>281180827</td>\n",
       "      <td>MDEwOlJlcG9zaXRvcnkyODExODA4Mjc=</td>\n",
       "      <td>mad-oct-2018</td>\n",
       "      <td>Spurda/mad-oct-2018</td>\n",
       "      <td>False</td>\n",
       "      <td>https://github.com/Spurda/mad-oct-2018</td>\n",
       "      <td>Student labs for Ironhack data analytics bootcamp</td>\n",
       "      <td>True</td>\n",
       "      <td>https://api.github.com/repos/Spurda/mad-oct-2018</td>\n",
       "      <td>https://api.github.com/repos/Spurda/mad-oct-20...</td>\n",
       "      <td>...</td>\n",
       "      <td>https://api.github.com/users/Spurda/events{/pr...</td>\n",
       "      <td>https://api.github.com/users/Spurda/received_e...</td>\n",
       "      <td>User</td>\n",
       "      <td>False</td>\n",
       "      <td>unlicense</td>\n",
       "      <td>The Unlicense</td>\n",
       "      <td>Unlicense</td>\n",
       "      <td>https://api.github.com/licenses/unlicense</td>\n",
       "      <td>MDc6TGljZW5zZTE1</td>\n",
       "      <td>NaN</td>\n",
       "    </tr>\n",
       "    <tr>\n",
       "      <th>1</th>\n",
       "      <td>220066216</td>\n",
       "      <td>MDEwOlJlcG9zaXRvcnkyMjAwNjYyMTY=</td>\n",
       "      <td>mad-oct-2018</td>\n",
       "      <td>ToniPons97/mad-oct-2018</td>\n",
       "      <td>False</td>\n",
       "      <td>https://github.com/ToniPons97/mad-oct-2018</td>\n",
       "      <td>Student labs for Ironhack data analytics bootcamp</td>\n",
       "      <td>True</td>\n",
       "      <td>https://api.github.com/repos/ToniPons97/mad-oc...</td>\n",
       "      <td>https://api.github.com/repos/ToniPons97/mad-oc...</td>\n",
       "      <td>...</td>\n",
       "      <td>https://api.github.com/users/ToniPons97/events...</td>\n",
       "      <td>https://api.github.com/users/ToniPons97/receiv...</td>\n",
       "      <td>User</td>\n",
       "      <td>False</td>\n",
       "      <td>unlicense</td>\n",
       "      <td>The Unlicense</td>\n",
       "      <td>Unlicense</td>\n",
       "      <td>https://api.github.com/licenses/unlicense</td>\n",
       "      <td>MDc6TGljZW5zZTE1</td>\n",
       "      <td>NaN</td>\n",
       "    </tr>\n",
       "    <tr>\n",
       "      <th>2</th>\n",
       "      <td>204100911</td>\n",
       "      <td>MDEwOlJlcG9zaXRvcnkyMDQxMDA5MTE=</td>\n",
       "      <td>mad-oct-2018</td>\n",
       "      <td>rsennes/mad-oct-2018</td>\n",
       "      <td>False</td>\n",
       "      <td>https://github.com/rsennes/mad-oct-2018</td>\n",
       "      <td>Student labs for Ironhack data analytics bootcamp</td>\n",
       "      <td>True</td>\n",
       "      <td>https://api.github.com/repos/rsennes/mad-oct-2018</td>\n",
       "      <td>https://api.github.com/repos/rsennes/mad-oct-2...</td>\n",
       "      <td>...</td>\n",
       "      <td>https://api.github.com/users/rsennes/events{/p...</td>\n",
       "      <td>https://api.github.com/users/rsennes/received_...</td>\n",
       "      <td>User</td>\n",
       "      <td>False</td>\n",
       "      <td>unlicense</td>\n",
       "      <td>The Unlicense</td>\n",
       "      <td>Unlicense</td>\n",
       "      <td>https://api.github.com/licenses/unlicense</td>\n",
       "      <td>MDc6TGljZW5zZTE1</td>\n",
       "      <td>NaN</td>\n",
       "    </tr>\n",
       "  </tbody>\n",
       "</table>\n",
       "<p>3 rows × 95 columns</p>\n",
       "</div>"
      ],
      "text/plain": [
       "          id                           node_id          name  \\\n",
       "0  281180827  MDEwOlJlcG9zaXRvcnkyODExODA4Mjc=  mad-oct-2018   \n",
       "1  220066216  MDEwOlJlcG9zaXRvcnkyMjAwNjYyMTY=  mad-oct-2018   \n",
       "2  204100911  MDEwOlJlcG9zaXRvcnkyMDQxMDA5MTE=  mad-oct-2018   \n",
       "\n",
       "                 full_name  private  \\\n",
       "0      Spurda/mad-oct-2018    False   \n",
       "1  ToniPons97/mad-oct-2018    False   \n",
       "2     rsennes/mad-oct-2018    False   \n",
       "\n",
       "                                     html_url  \\\n",
       "0      https://github.com/Spurda/mad-oct-2018   \n",
       "1  https://github.com/ToniPons97/mad-oct-2018   \n",
       "2     https://github.com/rsennes/mad-oct-2018   \n",
       "\n",
       "                                         description  fork  \\\n",
       "0  Student labs for Ironhack data analytics bootcamp  True   \n",
       "1  Student labs for Ironhack data analytics bootcamp  True   \n",
       "2  Student labs for Ironhack data analytics bootcamp  True   \n",
       "\n",
       "                                                 url  \\\n",
       "0   https://api.github.com/repos/Spurda/mad-oct-2018   \n",
       "1  https://api.github.com/repos/ToniPons97/mad-oc...   \n",
       "2  https://api.github.com/repos/rsennes/mad-oct-2018   \n",
       "\n",
       "                                           forks_url  ...  \\\n",
       "0  https://api.github.com/repos/Spurda/mad-oct-20...  ...   \n",
       "1  https://api.github.com/repos/ToniPons97/mad-oc...  ...   \n",
       "2  https://api.github.com/repos/rsennes/mad-oct-2...  ...   \n",
       "\n",
       "                                    owner.events_url  \\\n",
       "0  https://api.github.com/users/Spurda/events{/pr...   \n",
       "1  https://api.github.com/users/ToniPons97/events...   \n",
       "2  https://api.github.com/users/rsennes/events{/p...   \n",
       "\n",
       "                           owner.received_events_url owner.type  \\\n",
       "0  https://api.github.com/users/Spurda/received_e...       User   \n",
       "1  https://api.github.com/users/ToniPons97/receiv...       User   \n",
       "2  https://api.github.com/users/rsennes/received_...       User   \n",
       "\n",
       "  owner.site_admin license.key   license.name license.spdx_id  \\\n",
       "0            False   unlicense  The Unlicense       Unlicense   \n",
       "1            False   unlicense  The Unlicense       Unlicense   \n",
       "2            False   unlicense  The Unlicense       Unlicense   \n",
       "\n",
       "                                 license.url   license.node_id license  \n",
       "0  https://api.github.com/licenses/unlicense  MDc6TGljZW5zZTE1     NaN  \n",
       "1  https://api.github.com/licenses/unlicense  MDc6TGljZW5zZTE1     NaN  \n",
       "2  https://api.github.com/licenses/unlicense  MDc6TGljZW5zZTE1     NaN  \n",
       "\n",
       "[3 rows x 95 columns]"
      ]
     },
     "execution_count": 140,
     "metadata": {},
     "output_type": "execute_result"
    }
   ],
   "source": [
    "#comprobamos\n",
    "flattened_data.head(3)"
   ]
  },
  {
   "cell_type": "code",
   "execution_count": 141,
   "metadata": {},
   "outputs": [],
   "source": [
    "#FUNCIÓN\n",
    "def get_github_info():\n",
    "    url_repos=\"https://api.github.com/repos/ironhack-datalabs/madrid-oct-2018/forks\"\n",
    "    headers = {\"User-agent\": \"Mozilla/5.0 (Macintosh; Intel Mac OS X 10_14_5) AppleWebKit/605.1.15 (KHTML, like Gecko)\", \"Accept-Encoding\":\"Application/json\"}\n",
    "    request = requests.get(url_repos, headers=headers)\n",
    "    \n",
    "    fp=urllib.request.urlopen(url_repos)\n",
    "    mybytes=fp.read()\n",
    "    response=mybytes.decode(\"utf8\")\n",
    "    fp.close()\n",
    "    \n",
    "    return json.loads(response)\n",
    "      "
   ]
  },
  {
   "cell_type": "code",
   "execution_count": 142,
   "metadata": {},
   "outputs": [],
   "source": [
    "results=get_github_info()"
   ]
  },
  {
   "cell_type": "markdown",
   "metadata": {},
   "source": [
    "##### List of forks"
   ]
  },
  {
   "cell_type": "code",
   "execution_count": 144,
   "metadata": {},
   "outputs": [
    {
     "data": {
      "text/html": [
       "<div>\n",
       "<style scoped>\n",
       "    .dataframe tbody tr th:only-of-type {\n",
       "        vertical-align: middle;\n",
       "    }\n",
       "\n",
       "    .dataframe tbody tr th {\n",
       "        vertical-align: top;\n",
       "    }\n",
       "\n",
       "    .dataframe thead th {\n",
       "        text-align: right;\n",
       "    }\n",
       "</style>\n",
       "<table border=\"1\" class=\"dataframe\">\n",
       "  <thead>\n",
       "    <tr style=\"text-align: right;\">\n",
       "      <th></th>\n",
       "      <th>name</th>\n",
       "      <th>forks</th>\n",
       "    </tr>\n",
       "  </thead>\n",
       "  <tbody>\n",
       "    <tr>\n",
       "      <th>0</th>\n",
       "      <td>mad-oct-2018</td>\n",
       "      <td>0</td>\n",
       "    </tr>\n",
       "    <tr>\n",
       "      <th>1</th>\n",
       "      <td>mad-oct-2018</td>\n",
       "      <td>0</td>\n",
       "    </tr>\n",
       "    <tr>\n",
       "      <th>2</th>\n",
       "      <td>mad-oct-2018</td>\n",
       "      <td>0</td>\n",
       "    </tr>\n",
       "    <tr>\n",
       "      <th>3</th>\n",
       "      <td>mad-oct-2018</td>\n",
       "      <td>0</td>\n",
       "    </tr>\n",
       "    <tr>\n",
       "      <th>4</th>\n",
       "      <td>mad-oct-2018</td>\n",
       "      <td>0</td>\n",
       "    </tr>\n",
       "    <tr>\n",
       "      <th>5</th>\n",
       "      <td>datamad0119</td>\n",
       "      <td>0</td>\n",
       "    </tr>\n",
       "    <tr>\n",
       "      <th>6</th>\n",
       "      <td>madrid-oct-2018</td>\n",
       "      <td>0</td>\n",
       "    </tr>\n",
       "    <tr>\n",
       "      <th>7</th>\n",
       "      <td>madrid-oct-2018</td>\n",
       "      <td>0</td>\n",
       "    </tr>\n",
       "    <tr>\n",
       "      <th>8</th>\n",
       "      <td>madrid-oct-2018</td>\n",
       "      <td>0</td>\n",
       "    </tr>\n",
       "    <tr>\n",
       "      <th>9</th>\n",
       "      <td>madrid-oct-2018</td>\n",
       "      <td>0</td>\n",
       "    </tr>\n",
       "    <tr>\n",
       "      <th>10</th>\n",
       "      <td>madrid-oct-2018</td>\n",
       "      <td>0</td>\n",
       "    </tr>\n",
       "    <tr>\n",
       "      <th>11</th>\n",
       "      <td>madrid-oct-2018</td>\n",
       "      <td>0</td>\n",
       "    </tr>\n",
       "    <tr>\n",
       "      <th>12</th>\n",
       "      <td>madrid-oct-2018</td>\n",
       "      <td>0</td>\n",
       "    </tr>\n",
       "    <tr>\n",
       "      <th>13</th>\n",
       "      <td>madrid-oct-2018</td>\n",
       "      <td>0</td>\n",
       "    </tr>\n",
       "    <tr>\n",
       "      <th>14</th>\n",
       "      <td>madrid-oct-2018</td>\n",
       "      <td>0</td>\n",
       "    </tr>\n",
       "    <tr>\n",
       "      <th>15</th>\n",
       "      <td>madrid-oct-2018</td>\n",
       "      <td>0</td>\n",
       "    </tr>\n",
       "  </tbody>\n",
       "</table>\n",
       "</div>"
      ],
      "text/plain": [
       "               name  forks\n",
       "0      mad-oct-2018      0\n",
       "1      mad-oct-2018      0\n",
       "2      mad-oct-2018      0\n",
       "3      mad-oct-2018      0\n",
       "4      mad-oct-2018      0\n",
       "5       datamad0119      0\n",
       "6   madrid-oct-2018      0\n",
       "7   madrid-oct-2018      0\n",
       "8   madrid-oct-2018      0\n",
       "9   madrid-oct-2018      0\n",
       "10  madrid-oct-2018      0\n",
       "11  madrid-oct-2018      0\n",
       "12  madrid-oct-2018      0\n",
       "13  madrid-oct-2018      0\n",
       "14  madrid-oct-2018      0\n",
       "15  madrid-oct-2018      0"
      ]
     },
     "execution_count": 144,
     "metadata": {},
     "output_type": "execute_result"
    }
   ],
   "source": [
    "#LIST OF FORKS \n",
    "flattened_data[[\"name\",\"forks\"]]"
   ]
  },
  {
   "cell_type": "markdown",
   "metadata": {},
   "source": [
    "#### 2. Loop the JSON response to find out the language attribute of each fork. Use an array to store the language attributes of each fork.\n",
    "*Hint: Each language should appear only once in your array.*\n",
    "\n"
   ]
  },
  {
   "cell_type": "code",
   "execution_count": null,
   "metadata": {},
   "outputs": [],
   "source": []
  },
  {
   "cell_type": "code",
   "execution_count": null,
   "metadata": {},
   "outputs": [],
   "source": []
  },
  {
   "cell_type": "markdown",
   "metadata": {},
   "source": [
    "#### 3. Print the language array. It should be something like:\n",
    "\n",
    "[\"Python\", \"Jupyter Notebook\", \"HTML\"]"
   ]
  },
  {
   "cell_type": "code",
   "execution_count": null,
   "metadata": {},
   "outputs": [],
   "source": []
  },
  {
   "cell_type": "code",
   "execution_count": null,
   "metadata": {},
   "outputs": [],
   "source": []
  },
  {
   "cell_type": "markdown",
   "metadata": {},
   "source": [
    "## Challenge 2: Count Commits"
   ]
  },
  {
   "cell_type": "code",
   "execution_count": null,
   "metadata": {},
   "outputs": [],
   "source": []
  },
  {
   "cell_type": "code",
   "execution_count": null,
   "metadata": {},
   "outputs": [],
   "source": []
  },
  {
   "cell_type": "code",
   "execution_count": null,
   "metadata": {},
   "outputs": [],
   "source": []
  },
  {
   "cell_type": "markdown",
   "metadata": {},
   "source": [
    "## Challenge 3: Hidden Cold Joke"
   ]
  },
  {
   "cell_type": "code",
   "execution_count": null,
   "metadata": {},
   "outputs": [],
   "source": []
  },
  {
   "cell_type": "code",
   "execution_count": null,
   "metadata": {},
   "outputs": [],
   "source": []
  },
  {
   "cell_type": "code",
   "execution_count": null,
   "metadata": {},
   "outputs": [],
   "source": []
  },
  {
   "cell_type": "code",
   "execution_count": null,
   "metadata": {},
   "outputs": [],
   "source": []
  }
 ],
 "metadata": {
  "kernelspec": {
   "display_name": "Python 3",
   "language": "python",
   "name": "python3"
  },
  "language_info": {
   "codemirror_mode": {
    "name": "ipython",
    "version": 3
   },
   "file_extension": ".py",
   "mimetype": "text/x-python",
   "name": "python",
   "nbconvert_exporter": "python",
   "pygments_lexer": "ipython3",
   "version": "3.7.7"
  }
 },
 "nbformat": 4,
 "nbformat_minor": 4
}
